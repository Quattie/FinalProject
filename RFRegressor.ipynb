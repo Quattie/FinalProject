{
 "cells": [
  {
   "cell_type": "code",
   "execution_count": 1,
   "metadata": {},
   "outputs": [],
   "source": [
    "import yfinance as yf\n",
    "import pandas as pd\n",
    "from datetime import date\n",
    "import quandl\n",
    "import math\n",
    "import numpy as np\n",
    "import os\n",
    "#to plot within notebook\n",
    "import matplotlib.pyplot as plt\n",
    "%matplotlib inline\n",
    "\n",
    "#setting figure size\n",
    "from matplotlib.pylab import rcParams\n",
    "rcParams['figure.figsize'] = 20,10\n",
    "\n",
    "#importing required libraries\n",
    "from sklearn import metrics\n",
    "from sklearn.ensemble import RandomForestRegressor"
   ]
  },
  {
   "cell_type": "code",
   "execution_count": 42,
   "metadata": {},
   "outputs": [
    {
     "data": {
      "text/html": [
       "<div>\n",
       "<style scoped>\n",
       "    .dataframe tbody tr th:only-of-type {\n",
       "        vertical-align: middle;\n",
       "    }\n",
       "\n",
       "    .dataframe tbody tr th {\n",
       "        vertical-align: top;\n",
       "    }\n",
       "\n",
       "    .dataframe thead th {\n",
       "        text-align: right;\n",
       "    }\n",
       "</style>\n",
       "<table border=\"1\" class=\"dataframe\">\n",
       "  <thead>\n",
       "    <tr style=\"text-align: right;\">\n",
       "      <th></th>\n",
       "      <th>Open</th>\n",
       "      <th>High</th>\n",
       "      <th>Low</th>\n",
       "      <th>Close</th>\n",
       "      <th>Volume</th>\n",
       "      <th>Dividends</th>\n",
       "      <th>Stock Splits</th>\n",
       "    </tr>\n",
       "    <tr>\n",
       "      <th>Date</th>\n",
       "      <th></th>\n",
       "      <th></th>\n",
       "      <th></th>\n",
       "      <th></th>\n",
       "      <th></th>\n",
       "      <th></th>\n",
       "      <th></th>\n",
       "    </tr>\n",
       "  </thead>\n",
       "  <tbody>\n",
       "    <tr>\n",
       "      <th>2019-11-26</th>\n",
       "      <td>0.980</td>\n",
       "      <td>1.0200</td>\n",
       "      <td>0.910</td>\n",
       "      <td>1.02</td>\n",
       "      <td>2390100</td>\n",
       "      <td>0</td>\n",
       "      <td>0</td>\n",
       "    </tr>\n",
       "    <tr>\n",
       "      <th>2019-11-27</th>\n",
       "      <td>0.971</td>\n",
       "      <td>1.0600</td>\n",
       "      <td>0.948</td>\n",
       "      <td>1.05</td>\n",
       "      <td>1524300</td>\n",
       "      <td>0</td>\n",
       "      <td>0</td>\n",
       "    </tr>\n",
       "    <tr>\n",
       "      <th>2019-11-29</th>\n",
       "      <td>1.050</td>\n",
       "      <td>1.0600</td>\n",
       "      <td>0.995</td>\n",
       "      <td>1.03</td>\n",
       "      <td>561900</td>\n",
       "      <td>0</td>\n",
       "      <td>0</td>\n",
       "    </tr>\n",
       "    <tr>\n",
       "      <th>2019-12-02</th>\n",
       "      <td>1.020</td>\n",
       "      <td>1.0400</td>\n",
       "      <td>1.000</td>\n",
       "      <td>1.03</td>\n",
       "      <td>608300</td>\n",
       "      <td>0</td>\n",
       "      <td>0</td>\n",
       "    </tr>\n",
       "    <tr>\n",
       "      <th>2019-12-03</th>\n",
       "      <td>1.010</td>\n",
       "      <td>1.0199</td>\n",
       "      <td>0.990</td>\n",
       "      <td>1.00</td>\n",
       "      <td>650711</td>\n",
       "      <td>0</td>\n",
       "      <td>0</td>\n",
       "    </tr>\n",
       "  </tbody>\n",
       "</table>\n",
       "</div>"
      ],
      "text/plain": [
       "             Open    High    Low  Close   Volume  Dividends  Stock Splits\n",
       "Date                                                                     \n",
       "2019-11-26  0.980  1.0200  0.910   1.02  2390100          0             0\n",
       "2019-11-27  0.971  1.0600  0.948   1.05  1524300          0             0\n",
       "2019-11-29  1.050  1.0600  0.995   1.03   561900          0             0\n",
       "2019-12-02  1.020  1.0400  1.000   1.03   608300          0             0\n",
       "2019-12-03  1.010  1.0199  0.990   1.00   650711          0             0"
      ]
     },
     "execution_count": 42,
     "metadata": {},
     "output_type": "execute_result"
    }
   ],
   "source": [
    "tick = yf.Ticker(\"XXII\")\n",
    "stock = tick.history(period='max')\n",
    "#Only use 4 years of data\n",
    "today = date.today()\n",
    "formed_date = today.strftime(\"%Y-%m-%d\")\n",
    "stock = stock.loc['2002-01-01':formed_date]\n",
    "stock.tail()"
   ]
  },
  {
   "cell_type": "code",
   "execution_count": 43,
   "metadata": {},
   "outputs": [
    {
     "data": {
      "text/plain": [
       "Open               0\n",
       "High               0\n",
       "Low                0\n",
       "Close              0\n",
       "Volume             0\n",
       "Dividends          0\n",
       "Stock Splits       0\n",
       "Change             0\n",
       "Intraday_Change    0\n",
       "Movement           0\n",
       "Day_of_Week        0\n",
       "Day_of_Year        0\n",
       "y                  0\n",
       "Date               0\n",
       "Year               0\n",
       "Month              0\n",
       "dtype: int64"
      ]
     },
     "execution_count": 43,
     "metadata": {},
     "output_type": "execute_result"
    }
   ],
   "source": [
    "#Make additional columns for the regressor\n",
    "\n",
    "stock['Change'] = stock['Open'] - stock['Close']\n",
    "stock['Intraday_Change'] = stock['High'] - stock['Low']\n",
    "stock['Movement'] = stock['High'] - stock['Low'] / stock['High']\n",
    "stock['Day_of_Week'] = stock.index.dayofweek\n",
    "stock['Day_of_Year'] = stock.index.dayofyear\n",
    "stock['y'] = stock['Close']\n",
    "stock['Date'] = stock.index\n",
    "stock['Year'] = stock['Date'].dt.year\n",
    "stock['Month'] = stock['Date'].dt.month\n",
    "stock.fillna(0)\n",
    "stock.isnull().sum()"
   ]
  },
  {
   "cell_type": "code",
   "execution_count": 44,
   "metadata": {},
   "outputs": [],
   "source": [
    "def rmse(x,y): return math.sqrt(((x-y)**2).mean())\n",
    "\n",
    "def print_score(m):\n",
    "    res = [rmse(m.predict(X_train), y_train), rmse(m.predict(X_val), y_val),\n",
    "                m.score(X_train, y_train), m.score(X_val, y_val)]\n",
    "    print(f\"rmse train {res[0]}, rmse val {res[1]}, r^2 train {res[2]}, r^2 val {res[3]}\")"
   ]
  },
  {
   "cell_type": "code",
   "execution_count": 45,
   "metadata": {},
   "outputs": [
    {
     "name": "stdout",
     "output_type": "stream",
     "text": [
      "rmse train 0.08279247914237826, rmse val 0.022215062538403694, r^2 train 0.9909532794245004, r^2 val 0.9954802281957852\n",
      "Mean of y train  1.510952583933227\n"
     ]
    }
   ],
   "source": [
    "TOTAL = stock.count()[0]\n",
    "N_VALID = 120 # Three months\n",
    "TRAIN = TOTAL - N_VALID\n",
    "params = ['Open', 'Close', 'High', 'Low', 'Volume', 'Change', 'Intraday_Change', 'Movement', \n",
    "          'Dividends', 'Year', 'Month', 'Day_of_Week', 'Day_of_Year']\n",
    "stock_data = stock[params]\n",
    "\n",
    "X_df = stock_data\n",
    "y_df = stock['y']\n",
    "X_train, X_val = X_df[:TRAIN], X_df[TRAIN:]\n",
    "y_train, y_val = y_df[:TRAIN], y_df[TRAIN:]\n",
    "\n",
    "model = RandomForestRegressor(n_estimators=80, bootstrap=True, min_samples_leaf=25)\n",
    "model.fit(X_train, y_train)\n",
    "estimator = model.estimators_[0]\n",
    "print_score(model)\n",
    "print(\"Mean of y train \", y_train.mean())"
   ]
  },
  {
   "cell_type": "code",
   "execution_count": 46,
   "metadata": {},
   "outputs": [
    {
     "name": "stdout",
     "output_type": "stream",
     "text": [
      "Open\n",
      "0.00019688812547032655\n",
      "Close\n",
      "0.9971076600267829\n",
      "High\n",
      "0.0002678180610045221\n",
      "Low\n",
      "0.00220831290530528\n",
      "Volume\n",
      "8.069703398182487e-07\n",
      "Change\n",
      "1.0657888848850577e-08\n",
      "Intraday_Change\n",
      "1.7236710769782763e-07\n",
      "Movement\n",
      "0.00021821498173841929\n",
      "Dividends\n",
      "0.0\n",
      "Year\n",
      "3.58172987789665e-08\n",
      "Month\n",
      "0.0\n",
      "Day_of_Week\n",
      "8.861188176600908e-09\n",
      "Day_of_Year\n",
      "7.122587504231765e-08\n"
     ]
    }
   ],
   "source": [
    "for num in range(model.feature_importances_.size):\n",
    "    print(params[num])\n",
    "    print(model.feature_importances_[num]) "
   ]
  },
  {
   "cell_type": "code",
   "execution_count": 47,
   "metadata": {},
   "outputs": [
    {
     "name": "stdout",
     "output_type": "stream",
     "text": [
      "120\n",
      "[1.98066422 2.15819897 2.01684521 2.05307557 2.00504825 1.9407865\n",
      " 1.99680881 1.91107363 1.99680881 2.02600144 2.08685135 1.99680881\n",
      " 2.03284714 2.00504825 1.9407865  2.00504825 2.00504825 1.99680881\n",
      " 1.9407865  1.99680881 1.98066422 1.9407865  1.91107363 1.88976216\n",
      " 1.91107363 1.88976216 1.88976216 1.86949337 1.85726607 1.85565794\n",
      " 1.85565794 1.64001033 1.6384819  1.35319861 1.63653959 1.44762808\n",
      " 1.6384819  1.4975304  1.64001033 1.90202176 1.86949337 1.87473714\n",
      " 1.86949337 1.85565794 1.90202176 1.87473714 1.86949337 1.85565794\n",
      " 1.99680881 2.00504825 1.91107363 1.85565794 1.9407865  1.98066422\n",
      " 1.98066422 1.90202176 1.92285391 2.02600144 2.08685135 2.0143742\n",
      " 2.11998352 2.21046007 2.32028539 2.34770108 2.28755602 2.21693294\n",
      " 2.23601181 2.25446845 2.35658    2.27791762 2.22643152 2.30966957\n",
      " 2.3973902  2.39952297 2.26859077 2.13882988 2.12576644 2.05984361\n",
      " 2.19236541 2.12652819 2.07429965 2.12652819 2.05383732 2.02676319\n",
      " 2.00504825 2.01684521 2.00504825 2.00504825 2.05307557 2.13384293\n",
      " 2.15791355 2.23601181 2.22592721 2.12652819 2.01684521 1.85726607\n",
      " 1.86335241 1.86949337 1.6763104  1.85565794 1.73783777 1.64001033\n",
      " 1.6384819  1.6384819  1.6384819  1.45935558 1.45520123 1.45520123\n",
      " 1.44762808 1.3969112  1.44864331 0.82848443 1.18970526 1.09906415\n",
      " 1.02401348 1.02295768 1.06257812 1.02373954 1.02345673 0.99531152]\n",
      "Trees: 80, Mean of 0th row for prediction from all trees: : 1.9806642241559622, Actual y: 1.9600000381469727\n"
     ]
    },
    {
     "data": {
      "image/png": "[encoded data removed]",
      "text/plain": [
       "<Figure size 432x288 with 1 Axes>"
      ]
     },
     "metadata": {
      "needs_background": "light"
     },
     "output_type": "display_data"
    }
   ],
   "source": [
    "print(model.predict(X_val).size)\n",
    "print(model.predict(X_val))\n",
    "\n",
    "preds = np.stack([t.predict(X_val) for t in model.estimators_])\n",
    "print(f\"Trees: {len(preds[:,0])},\", f\"Mean of 0th row for prediction from all trees: : {np.mean(preds[:,0])},\", f\"Actual y: {y_val[0]}\")\n",
    "\n",
    "plt.plot([metrics.r2_score(y_val, np.mean(preds[:i+1], axis=0)) for i in range(80)]);"
   ]
  },
  {
   "cell_type": "code",
   "execution_count": 53,
   "metadata": {},
   "outputs": [
    {
     "data": {
      "text/plain": [
       "[<matplotlib.lines.Line2D at 0x1283f8748>]"
      ]
     },
     "execution_count": 53,
     "metadata": {},
     "output_type": "execute_result"
    },
    {
     "data": {
      "image/png": "[encoded data removed]",
      "text/plain": [
       "<Figure size 432x288 with 1 Axes>"
      ]
     },
     "metadata": {
      "needs_background": "light"
     },
     "output_type": "display_data"
    }
   ],
   "source": [
    "close = stock_data['Close'].values\n",
    "\n",
    "plt.plot(close[-120:])\n",
    "plt.plot(model.predict(X_val))"
   ]
  },
  {
   "cell_type": "code",
   "execution_count": 49,
   "metadata": {},
   "outputs": [
    {
     "data": {
      "text/plain": [
       "512"
      ]
     },
     "execution_count": 49,
     "metadata": {},
     "output_type": "execute_result"
    }
   ],
   "source": [
    "from sklearn.tree import export_graphviz\n",
    "\n",
    "export_graphviz(estimator,\n",
    "                feature_names=X_df.columns,\n",
    "                filled=True,\n",
    "                rounded=True)\n",
    "\n",
    "os.system('dot -Tpng tree.dot -o tree.png')\n"
   ]
  },
  {
   "cell_type": "code",
   "execution_count": null,
   "metadata": {},
   "outputs": [],
   "source": []
  }
 ],
 "metadata": {
  "kernelspec": {
   "display_name": "Python 3",
   "language": "python",
   "name": "python3"
  },
  "language_info": {
   "codemirror_mode": {
    "name": "ipython",
    "version": 3
   },
   "file_extension": ".py",
   "mimetype": "text/x-python",
   "name": "python",
   "nbconvert_exporter": "python",
   "pygments_lexer": "ipython3",
   "version": "3.7.2"
  }
 },
 "nbformat": 4,
 "nbformat_minor": 2
}
