{
 "cells": [
  {
   "cell_type": "code",
   "execution_count": 1,
   "metadata": {},
   "outputs": [
    {
     "name": "stderr",
     "output_type": "stream",
     "text": [
      "Using TensorFlow backend.\n"
     ]
    }
   ],
   "source": [
    "import yfinance as yf\n",
    "import matplotlib as plt\n",
    "import numpy as np\n",
    "import pandas as pd\n",
    "import seaborn as sns\n",
    "import time\n",
    "import math\n",
    "from datetime import date\n",
    "\n",
    "from datetime import date\n",
    "from matplotlib import pyplot as plt\n",
    "from numpy.random import seed\n",
    "from pylab import rcParams\n",
    "from sklearn.metrics import mean_squared_error\n",
    "from sklearn.model_selection import train_test_split\n",
    "\n",
    "from tqdm import tqdm_notebook\n",
    "from sklearn.preprocessing import StandardScaler\n",
    "from sklearn.preprocessing import MinMaxScaler\n",
    "\n",
    "from tensorflow import set_random_seed\n",
    "from keras.models import Sequential\n",
    "from keras.layers import Dense, Dropout, LSTM\n",
    "from keras.utils import plot_model\n",
    "from keras import optimizers\n",
    "\n",
    "from ipywidgets import IntProgress"
   ]
  },
  {
   "cell_type": "code",
   "execution_count": 2,
   "metadata": {},
   "outputs": [
    {
     "data": {
      "text/html": [
       "<div>\n",
       "<style scoped>\n",
       "    .dataframe tbody tr th:only-of-type {\n",
       "        vertical-align: middle;\n",
       "    }\n",
       "\n",
       "    .dataframe tbody tr th {\n",
       "        vertical-align: top;\n",
       "    }\n",
       "\n",
       "    .dataframe thead th {\n",
       "        text-align: right;\n",
       "    }\n",
       "</style>\n",
       "<table border=\"1\" class=\"dataframe\">\n",
       "  <thead>\n",
       "    <tr style=\"text-align: right;\">\n",
       "      <th></th>\n",
       "      <th>Open</th>\n",
       "      <th>High</th>\n",
       "      <th>Low</th>\n",
       "      <th>Close</th>\n",
       "      <th>Volume</th>\n",
       "      <th>Dividends</th>\n",
       "      <th>Stock Splits</th>\n",
       "    </tr>\n",
       "    <tr>\n",
       "      <th>Date</th>\n",
       "      <th></th>\n",
       "      <th></th>\n",
       "      <th></th>\n",
       "      <th></th>\n",
       "      <th></th>\n",
       "      <th></th>\n",
       "      <th></th>\n",
       "    </tr>\n",
       "  </thead>\n",
       "  <tbody>\n",
       "    <tr>\n",
       "      <th>2019-11-26</th>\n",
       "      <td>52.914744</td>\n",
       "      <td>53.540071</td>\n",
       "      <td>52.825411</td>\n",
       "      <td>53.500370</td>\n",
       "      <td>13219800.0</td>\n",
       "      <td>0.0</td>\n",
       "      <td>0.0</td>\n",
       "    </tr>\n",
       "    <tr>\n",
       "      <th>2019-11-27</th>\n",
       "      <td>53.530147</td>\n",
       "      <td>53.698885</td>\n",
       "      <td>53.202592</td>\n",
       "      <td>53.549999</td>\n",
       "      <td>9595200.0</td>\n",
       "      <td>0.0</td>\n",
       "      <td>0.0</td>\n",
       "    </tr>\n",
       "    <tr>\n",
       "      <th>2019-11-29</th>\n",
       "      <td>53.700001</td>\n",
       "      <td>53.730000</td>\n",
       "      <td>53.220001</td>\n",
       "      <td>53.400002</td>\n",
       "      <td>7222300.0</td>\n",
       "      <td>0.4</td>\n",
       "      <td>0.0</td>\n",
       "    </tr>\n",
       "    <tr>\n",
       "      <th>2019-12-02</th>\n",
       "      <td>53.320000</td>\n",
       "      <td>53.750000</td>\n",
       "      <td>52.849998</td>\n",
       "      <td>53.750000</td>\n",
       "      <td>13173800.0</td>\n",
       "      <td>0.0</td>\n",
       "      <td>0.0</td>\n",
       "    </tr>\n",
       "    <tr>\n",
       "      <th>2019-12-03</th>\n",
       "      <td>53.709999</td>\n",
       "      <td>53.830002</td>\n",
       "      <td>53.400002</td>\n",
       "      <td>53.595001</td>\n",
       "      <td>5234798.0</td>\n",
       "      <td>0.0</td>\n",
       "      <td>0.0</td>\n",
       "    </tr>\n",
       "  </tbody>\n",
       "</table>\n",
       "</div>"
      ],
      "text/plain": [
       "                 Open       High        Low      Close      Volume  Dividends  \\\n",
       "Date                                                                            \n",
       "2019-11-26  52.914744  53.540071  52.825411  53.500370  13219800.0        0.0   \n",
       "2019-11-27  53.530147  53.698885  53.202592  53.549999   9595200.0        0.0   \n",
       "2019-11-29  53.700001  53.730000  53.220001  53.400002   7222300.0        0.4   \n",
       "2019-12-02  53.320000  53.750000  52.849998  53.750000  13173800.0        0.0   \n",
       "2019-12-03  53.709999  53.830002  53.400002  53.595001   5234798.0        0.0   \n",
       "\n",
       "            Stock Splits  \n",
       "Date                      \n",
       "2019-11-26           0.0  \n",
       "2019-11-27           0.0  \n",
       "2019-11-29           0.0  \n",
       "2019-12-02           0.0  \n",
       "2019-12-03           0.0  "
      ]
     },
     "execution_count": 2,
     "metadata": {},
     "output_type": "execute_result"
    }
   ],
   "source": [
    "tick = yf.Ticker(\"KO\")\n",
    "stock = tick.history(period='max')\n",
    "#Only use 4 years of data\n",
    "today = date.today()\n",
    "formed_date = today.strftime(\"%Y-%m-%d\")\n",
    "stock = stock.loc['2017-10-01':formed_date]\n",
    "stock.tail()\n"
   ]
  },
  {
   "cell_type": "code",
   "execution_count": 3,
   "metadata": {},
   "outputs": [
    {
     "name": "stderr",
     "output_type": "stream",
     "text": [
      "/Library/Frameworks/Python.framework/Versions/3.7/lib/python3.7/site-packages/pandas/plotting/_converter.py:129: FutureWarning: Using an implicitly registered datetime converter for a matplotlib plotting method. The converter was registered by pandas on import. Future versions of pandas will require you to explicitly register matplotlib converters.\n",
      "\n",
      "To register the converters:\n",
      "\t>>> from pandas.plotting import register_matplotlib_converters\n",
      "\t>>> register_matplotlib_converters()\n",
      "  warnings.warn(msg, FutureWarning)\n"
     ]
    },
    {
     "data": {
      "image/png": "[encoded data removed]",
      "text/plain": [
       "<Figure size 432x288 with 1 Axes>"
      ]
     },
     "metadata": {
      "needs_background": "light"
     },
     "output_type": "display_data"
    }
   ],
   "source": [
    "plt.figure()\n",
    "plt.plot(stock[\"Open\"])\n",
    "plt.plot(stock[\"Close\"])\n",
    "plt.title('History of Stock')\n",
    "plt.ylabel('Price (USD)')\n",
    "plt.xlabel('Days')\n",
    "plt.legend(['Open', 'Close', 'Volume'], loc='upper left')\n",
    "plt.show()"
   ]
  },
  {
   "cell_type": "code",
   "execution_count": 4,
   "metadata": {},
   "outputs": [
    {
     "data": {
      "image/png": "[encoded data removed]",
      "text/plain": [
       "<Figure size 432x288 with 1 Axes>"
      ]
     },
     "metadata": {
      "needs_background": "light"
     },
     "output_type": "display_data"
    }
   ],
   "source": [
    "plt.figure()\n",
    "plt.plot(stock[\"Volume\"])\n",
    "plt.title('Volume')\n",
    "plt.ylabel('Volume')\n",
    "plt.xlabel('Days')\n",
    "plt.legend(['Volume'], loc='upper left')\n",
    "plt.show()"
   ]
  },
  {
   "cell_type": "code",
   "execution_count": 5,
   "metadata": {},
   "outputs": [
    {
     "name": "stdout",
     "output_type": "stream",
     "text": [
      "[[4.18633816e+01 4.20678210e+01 4.16310654e+01 4.15846028e+01\n",
      "  1.07078000e+07]]\n",
      "[[0.20465185 0.20708958 0.19848244 0.20462854 0.13792925]]\n"
     ]
    }
   ],
   "source": [
    "#Features\n",
    "train_cols = ['Open', 'High', 'Close', 'Low', 'Volume']\n",
    "#Make training set 80% of the data\n",
    "vti_train, vti_test = train_test_split(stock, train_size=0.8, test_size=0.2, shuffle=False)\n",
    "x = vti_train.loc[:,train_cols].values\n",
    "scaler = MinMaxScaler()\n",
    "x_train = scaler.fit_transform(x)\n",
    "x_test = scaler.fit_transform(stock.loc[:,train_cols])\n",
    "print(x[:1])\n",
    "print(x_train[:1])"
   ]
  },
  {
   "cell_type": "code",
   "execution_count": 6,
   "metadata": {},
   "outputs": [],
   "source": [
    "#How many days in the past that we want to look at\n",
    "TIME_STEPS = 5\n",
    "\n",
    "def build_timeseries(mat, y_col_index):\n",
    "    dim_0 = mat.shape[0] - TIME_STEPS\n",
    "    dim_1 = mat.shape[1]\n",
    "    x = np.zeros((dim_0, TIME_STEPS, dim_1))\n",
    "    y = np.zeros((dim_0,))\n",
    "    \n",
    "    for i in tqdm_notebook(range(dim_0)):\n",
    "        x[i] = mat[i:TIME_STEPS + i]\n",
    "        y[i] = mat[TIME_STEPS + i, y_col_index]\n",
    "    print(\"Length of time-series i/o\", x.shape, y.shape)\n",
    "    return x, y\n",
    "\n",
    "def trim_data(mat, batch_size):\n",
    "    num_rows_dropped = mat.shape[0]%batch_size\n",
    "    if(num_rows_dropped > 0):\n",
    "        return mat[:-num_rows_dropped]\n",
    "    else:\n",
    "        return mat"
   ]
  },
  {
   "cell_type": "code",
   "execution_count": 7,
   "metadata": {},
   "outputs": [
    {
     "data": {
      "application/vnd.jupyter.widget-view+json": {
       "model_id": "4056fd53e1234ebead6d356543b26162",
       "version_major": 2,
       "version_minor": 0
      },
      "text/plain": [
       "HBox(children=(IntProgress(value=0, max=432), HTML(value='')))"
      ]
     },
     "metadata": {},
     "output_type": "display_data"
    },
    {
     "name": "stdout",
     "output_type": "stream",
     "text": [
      "\n",
      "Length of time-series i/o (432, 5, 5) (432,)\n",
      "(432, 5, 5)\n",
      "(432, 5, 5)\n"
     ]
    },
    {
     "data": {
      "application/vnd.jupyter.widget-view+json": {
       "model_id": "b801ea8379a0496390478b5a9f83c3eb",
       "version_major": 2,
       "version_minor": 0
      },
      "text/plain": [
       "HBox(children=(IntProgress(value=0, max=542), HTML(value='')))"
      ]
     },
     "metadata": {},
     "output_type": "display_data"
    },
    {
     "name": "stdout",
     "output_type": "stream",
     "text": [
      "\n",
      "Length of time-series i/o (542, 5, 5) (542,)\n",
      "(271, 5, 5)\n"
     ]
    }
   ],
   "source": [
    "BATCH_SIZE = 2\n",
    "\n",
    "x_t, y_t = build_timeseries(x_train, 3)\n",
    "print(x_t.shape)\n",
    "x_t = trim_data(x_t, BATCH_SIZE)\n",
    "print(x_t.shape)\n",
    "y_t = trim_data(y_t, BATCH_SIZE)\n",
    "x_temp, y_temp = build_timeseries(x_test, 3)\n",
    "x_val, x_test_t = np.split(trim_data(x_temp, BATCH_SIZE), 2)\n",
    "y_val, y_test_t = np.split(trim_data(y_temp, BATCH_SIZE), 2)\n",
    "print(x_test_t.shape)\n"
   ]
  },
  {
   "cell_type": "code",
   "execution_count": 33,
   "metadata": {},
   "outputs": [
    {
     "name": "stdout",
     "output_type": "stream",
     "text": [
      "Train on 432 samples, validate on 270 samples\n",
      "Epoch 1/45\n",
      " - 2s - loss: 0.0261 - val_loss: 0.1767\n",
      "Epoch 2/45\n",
      " - 1s - loss: 0.0305 - val_loss: 0.2252\n",
      "Epoch 3/45\n",
      " - 1s - loss: 0.0361 - val_loss: 0.2175\n",
      "Epoch 4/45\n",
      " - 1s - loss: 0.0404 - val_loss: 0.2139\n",
      "Epoch 5/45\n",
      " - 1s - loss: 0.0373 - val_loss: 0.1381\n",
      "Epoch 6/45\n",
      " - 1s - loss: 0.0280 - val_loss: 0.1725\n",
      "Epoch 7/45\n",
      " - 1s - loss: 0.0254 - val_loss: 0.1915\n",
      "Epoch 8/45\n",
      " - 1s - loss: 0.0260 - val_loss: 0.0796\n",
      "Epoch 9/45\n",
      " - 1s - loss: 0.0156 - val_loss: 0.0512\n",
      "Epoch 10/45\n",
      " - 1s - loss: 0.0117 - val_loss: 0.0360\n",
      "Epoch 11/45\n",
      " - 1s - loss: 0.0102 - val_loss: 0.0315\n",
      "Epoch 12/45\n",
      " - 1s - loss: 0.0090 - val_loss: 0.0289\n",
      "Epoch 13/45\n",
      " - 1s - loss: 0.0078 - val_loss: 0.0180\n",
      "Epoch 14/45\n",
      " - 1s - loss: 0.0060 - val_loss: 0.0154\n",
      "Epoch 15/45\n",
      " - 1s - loss: 0.0057 - val_loss: 0.0137\n",
      "Epoch 16/45\n",
      " - 1s - loss: 0.0049 - val_loss: 0.0127\n",
      "Epoch 17/45\n",
      " - 1s - loss: 0.0051 - val_loss: 0.0144\n",
      "Epoch 18/45\n",
      " - 1s - loss: 0.0049 - val_loss: 0.0152\n",
      "Epoch 19/45\n",
      " - 1s - loss: 0.0050 - val_loss: 0.0131\n",
      "Epoch 20/45\n",
      " - 1s - loss: 0.0044 - val_loss: 0.0134\n",
      "Epoch 21/45\n",
      " - 1s - loss: 0.0042 - val_loss: 0.0107\n",
      "Epoch 22/45\n",
      " - 1s - loss: 0.0040 - val_loss: 0.0129\n",
      "Epoch 23/45\n",
      " - 1s - loss: 0.0041 - val_loss: 0.0120\n",
      "Epoch 24/45\n",
      " - 1s - loss: 0.0037 - val_loss: 0.0129\n",
      "Epoch 25/45\n",
      " - 1s - loss: 0.0037 - val_loss: 0.0112\n",
      "Epoch 26/45\n",
      " - 1s - loss: 0.0039 - val_loss: 0.0098\n",
      "Epoch 27/45\n",
      " - 1s - loss: 0.0032 - val_loss: 0.0090\n",
      "Epoch 28/45\n",
      " - 1s - loss: 0.0035 - val_loss: 0.0105\n",
      "Epoch 29/45\n",
      " - 1s - loss: 0.0035 - val_loss: 0.0130\n",
      "Epoch 30/45\n",
      " - 1s - loss: 0.0035 - val_loss: 0.0087\n",
      "Epoch 31/45\n",
      " - 1s - loss: 0.0032 - val_loss: 0.0110\n",
      "Epoch 32/45\n",
      " - 1s - loss: 0.0034 - val_loss: 0.0104\n",
      "Epoch 33/45\n",
      " - 1s - loss: 0.0029 - val_loss: 0.0094\n",
      "Epoch 34/45\n",
      " - 1s - loss: 0.0030 - val_loss: 0.0081\n",
      "Epoch 35/45\n",
      " - 1s - loss: 0.0029 - val_loss: 0.0081\n",
      "Epoch 36/45\n",
      " - 1s - loss: 0.0027 - val_loss: 0.0096\n",
      "Epoch 37/45\n",
      " - 1s - loss: 0.0030 - val_loss: 0.0092\n",
      "Epoch 38/45\n",
      " - 1s - loss: 0.0028 - val_loss: 0.0084\n",
      "Epoch 39/45\n",
      " - 1s - loss: 0.0031 - val_loss: 0.0085\n",
      "Epoch 40/45\n",
      " - 1s - loss: 0.0029 - val_loss: 0.0089\n",
      "Epoch 41/45\n",
      " - 1s - loss: 0.0027 - val_loss: 0.0071\n",
      "Epoch 42/45\n",
      " - 1s - loss: 0.0029 - val_loss: 0.0094\n",
      "Epoch 43/45\n",
      " - 1s - loss: 0.0030 - val_loss: 0.0069\n",
      "Epoch 44/45\n",
      " - 1s - loss: 0.0026 - val_loss: 0.0084\n",
      "Epoch 45/45\n",
      " - 1s - loss: 0.0026 - val_loss: 0.0063\n"
     ]
    }
   ],
   "source": [
    "model = Sequential()\n",
    "model.add(LSTM(100, batch_input_shape=(BATCH_SIZE, TIME_STEPS, x_t.shape[2]), dropout=0.0,\n",
    "              recurrent_dropout=0.1, stateful=True, kernel_initializer='random_uniform'))\n",
    "model.add(Dropout(0.5))\n",
    "model.add(Dense(20, activation='relu'))\n",
    "model.add(Dense(1, activation='sigmoid'))\n",
    "model.compile(loss='mean_squared_error', optimizer='adam') \n",
    "vti_history = model.fit(x_t, y_t, epochs=45, verbose=2, \n",
    "                        batch_size=BATCH_SIZE, shuffle=False, \n",
    "                        validation_data=(trim_data(x_val, BATCH_SIZE), trim_data(y_val, BATCH_SIZE)))"
   ]
  },
  {
   "cell_type": "code",
   "execution_count": 34,
   "metadata": {},
   "outputs": [
    {
     "name": "stdout",
     "output_type": "stream",
     "text": [
      "(271, 5, 5)\n",
      "Error is  0.0019754808165811932 (270, 1) (270,)\n",
      "[[0.4582965 ]\n",
      " [0.49475393]\n",
      " [0.5396164 ]\n",
      " [0.57777333]\n",
      " [0.57721925]\n",
      " [0.58147764]\n",
      " [0.6038792 ]\n",
      " [0.6003313 ]\n",
      " [0.59853643]\n",
      " [0.58872783]\n",
      " [0.6005845 ]\n",
      " [0.6416317 ]\n",
      " [0.6165658 ]\n",
      " [0.5344118 ]\n",
      " [0.5297193 ]]\n",
      "[0.4510096  0.49370973 0.52071091 0.52510626 0.54143289 0.55273588\n",
      " 0.55524733 0.55587553 0.53578138 0.55838717 0.59731896 0.5320139\n",
      " 0.49308165 0.49056984 0.49810483]\n"
     ]
    }
   ],
   "source": [
    "y_pred = model.predict(trim_data(x_test_t, BATCH_SIZE), batch_size= BATCH_SIZE)\n",
    "print(x_test_t.shape)\n",
    "y_pred - y_pred.flatten()\n",
    "y_test_t = trim_data(y_test_t, BATCH_SIZE)\n",
    "error = mean_squared_error(y_test_t, y_pred)\n",
    "print(\"Error is \", error, y_pred.shape, y_test_t.shape)\n",
    "print(y_pred[0:15])\n",
    "print(y_test_t[0:15])"
   ]
  },
  {
   "cell_type": "code",
   "execution_count": 35,
   "metadata": {},
   "outputs": [
    {
     "name": "stdout",
     "output_type": "stream",
     "text": [
      "(270, 1)\n",
      "(270,)\n"
     ]
    }
   ],
   "source": [
    "#3 being the amount of y_cols\n",
    "y_pred_org = (y_pred * scaler.data_range_[3] + scaler.data_min_[3])\n",
    "y_test_org_t = (y_test_t * scaler.data_range_[3] + scaler.data_min_[3])\n",
    "\n",
    "print(y_pred_org.shape)\n",
    "print(y_test_org_t.shape)"
   ]
  },
  {
   "cell_type": "code",
   "execution_count": 36,
   "metadata": {},
   "outputs": [
    {
     "data": {
      "text/plain": [
       "<matplotlib.legend.Legend at 0x135d947b8>"
      ]
     },
     "execution_count": 36,
     "metadata": {},
     "output_type": "execute_result"
    },
    {
     "data": {
      "image/png": "[encoded data removed]",
      "text/plain": [
       "<Figure size 432x288 with 1 Axes>"
      ]
     },
     "metadata": {
      "needs_background": "light"
     },
     "output_type": "display_data"
    }
   ],
   "source": [
    "plt.figure()\n",
    "plt.plot(vti_history.history['loss'])\n",
    "plt.plot(vti_history.history['val_loss'])\n",
    "plt.title('Model Loss')\n",
    "plt.ylabel('Loss')\n",
    "plt.xlabel('Epoch')\n",
    "plt.legend(['Train', 'Test'])"
   ]
  },
  {
   "cell_type": "code",
   "execution_count": 37,
   "metadata": {},
   "outputs": [
    {
     "data": {
      "image/png": "[encoded data removed]",
      "text/plain": [
       "<Figure size 432x288 with 1 Axes>"
      ]
     },
     "metadata": {
      "needs_background": "light"
     },
     "output_type": "display_data"
    }
   ],
   "source": [
    "plt.figure()\n",
    "plt.plot(y_pred_org)\n",
    "plt.plot(y_test_org_t)\n",
    "plt.title('Prediction vs. Real Stock Price')\n",
    "plt.xlabel('Days')\n",
    "plt.ylabel('Price')\n",
    "plt.legend(['Prediction', 'Real'])\n",
    "plt.savefig(\"charts/XXIIStock.png\")\n",
    "plt.show()"
   ]
  },
  {
   "cell_type": "code",
   "execution_count": 38,
   "metadata": {},
   "outputs": [
    {
     "data": {
      "application/vnd.jupyter.widget-view+json": {
       "model_id": "162b62582f764705a5d15a75e220eba1",
       "version_major": 2,
       "version_minor": 0
      },
      "text/plain": [
       "HBox(children=(IntProgress(value=0, max=2), HTML(value='')))"
      ]
     },
     "metadata": {},
     "output_type": "display_data"
    },
    {
     "name": "stdout",
     "output_type": "stream",
     "text": [
      "\n",
      "Length of time-series i/o (2, 5, 5) (2,)\n",
      "                 Open       High        Low      Close      Volume  Dividends  \\\n",
      "Date                                                                            \n",
      "2019-11-22  52.567337  52.795631  52.358895  52.636818   9113300.0        0.0   \n",
      "2019-11-25  52.884965  52.994151  52.378748  52.825413  10963500.0        0.0   \n",
      "2019-11-26  52.914744  53.540071  52.825411  53.500370  13219800.0        0.0   \n",
      "2019-11-27  53.530147  53.698885  53.202592  53.549999   9595200.0        0.0   \n",
      "2019-11-29  53.700001  53.730000  53.220001  53.400002   7222300.0        0.4   \n",
      "2019-12-02  53.320000  53.750000  52.849998  53.750000  13173800.0        0.0   \n",
      "2019-12-03  53.709999  53.830002  53.400002  53.595001   5234798.0        0.0   \n",
      "\n",
      "            Stock Splits  \n",
      "Date                      \n",
      "2019-11-22           0.0  \n",
      "2019-11-25           0.0  \n",
      "2019-11-26           0.0  \n",
      "2019-11-27           0.0  \n",
      "2019-11-29           0.0  \n",
      "2019-12-02           0.0  \n",
      "2019-12-03           0.0  \n",
      "[52.84999847 53.40000153]\n",
      "[[53.233562]\n",
      " [53.160557]]\n"
     ]
    },
    {
     "data": {
      "text/plain": [
       "53.233562"
      ]
     },
     "execution_count": 38,
     "metadata": {},
     "output_type": "execute_result"
    }
   ],
   "source": [
    "next_pred = stock[-7:]\n",
    "#Features\n",
    "train_cols = ['Open', 'High', 'Close', 'Low', 'Volume']\n",
    "x_pred_values = next_pred.loc[:,train_cols].values\n",
    "predx = scaler.fit_transform(x_pred_values)\n",
    "x_fut, y_fut = build_timeseries(predx, 3)\n",
    "\n",
    "y_test_t = trim_data(y_test_t, BATCH_SIZE)\n",
    "\n",
    "future_pred = model.predict(trim_data(x_fut, BATCH_SIZE), batch_size= BATCH_SIZE)\n",
    "\n",
    "future_pred - future_pred.flatten()\n",
    "y_fut = trim_data(y_fut, BATCH_SIZE)\n",
    "\n",
    "fut_pred_org = (future_pred * scaler.data_range_[3] + scaler.data_min_[3])\n",
    "y_fut = (y_fut * scaler.data_range_[3] + scaler.data_min_[3])\n",
    "\n",
    "print(next_pred)\n",
    "print(y_fut)\n",
    "print(fut_pred_org)\n",
    "fut_pred_org[0][-1]"
   ]
  },
  {
   "cell_type": "code",
   "execution_count": null,
   "metadata": {},
   "outputs": [],
   "source": []
  }
 ],
 "metadata": {
  "kernelspec": {
   "display_name": "Python 3",
   "language": "python",
   "name": "python3"
  },
  "language_info": {
   "codemirror_mode": {
    "name": "ipython",
    "version": 3
   },
   "file_extension": ".py",
   "mimetype": "text/x-python",
   "name": "python",
   "nbconvert_exporter": "python",
   "pygments_lexer": "ipython3",
   "version": "3.7.2"
  }
 },
 "nbformat": 4,
 "nbformat_minor": 2
}
