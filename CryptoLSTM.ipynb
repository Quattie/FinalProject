{
 "cells": [
  {
   "cell_type": "code",
   "execution_count": 10,
   "metadata": {},
   "outputs": [],
   "source": [
    "import gc\n",
    "import pandas as pd\n",
    "import numpy as np\n",
    "import matplotlib.pyplot as plt\n",
    "from datetime import datetime\n",
    "from numpy.random import seed\n",
    "from pylab import rcParams\n",
    "from sklearn.metrics import mean_squared_error\n",
    "from sklearn.model_selection import train_test_split\n",
    "from sklearn.preprocessing import StandardScaler\n",
    "from sklearn.preprocessing import MinMaxScaler\n",
    "from tqdm import tqdm_notebook\n",
    "import pandas_datareader.data as pdr\n",
    "\n",
    "import keras\n",
    "from keras.models import Sequential\n",
    "from keras.layers import Activation, Dense\n",
    "from keras.layers import LSTM\n",
    "from keras.layers import Dropout"
   ]
  },
  {
   "cell_type": "code",
   "execution_count": 6,
   "metadata": {},
   "outputs": [],
   "source": [
    "def get_market_data(market, tag=True):\n",
    "    \"\"\"\n",
    "    market: the full name of the cryptocurrency as spelled on coinmarketcap.com. eg.: 'bitcoin'\n",
    "    tag: eg.: 'btc', if provided it will add a tag to the name of every column.\n",
    "    returns: panda DataFrame\n",
    "    This function will use the coinmarketcap.com url for provided coin/token page. \n",
    "    Reads the OHLCV and Market Cap.\n",
    "    Converts the date format to be readable. \n",
    "    Makes sure that the data is consistant by converting non_numeric values to a number very close to 0.\n",
    "    And finally tags each columns if provided.\n",
    "    \"\"\"\n",
    "    now = datetime.now()\n",
    "    market_data = pd.read_html(\"https://coinmarketcap.com/currencies/\" + market + \n",
    "                             \"/historical-data/?start=20130428&end=\"+now.strftime(\"%Y%m%d\"), flavor='html5lib')[0]\n",
    "    market_data = market_data.assign(Date=pd.to_datetime(market_data['Date']))  \n",
    "    market_data['Volume'] = (pd.to_numeric(market_data['Volume'], errors='coerce').fillna(0))\n",
    "    if tag:\n",
    "        market_data.columns = [market_data.columns[0]] + [tag + '_' + i for i in market_data.columns[1:]]\n",
    "    return market_data"
   ]
  },
  {
   "cell_type": "code",
   "execution_count": 32,
   "metadata": {},
   "outputs": [
    {
     "name": "stdout",
     "output_type": "stream",
     "text": [
      "                   High          Low         Open        Close       Volume  \\\n",
      "Date                                                                          \n",
      "2019-11-17  8727.789062  8500.967773  8549.470703  8577.975586  18668638896   \n",
      "2019-11-18  8653.280273  8273.573242  8573.980469  8309.286133  21579470673   \n",
      "2019-11-19  8408.516602  8099.963379  8305.134766  8206.145508  21083613815   \n",
      "2019-11-20  8237.240234  8010.511719  8203.613281  8027.268066  20764300436   \n",
      "2019-11-21  8109.221191  7599.635742  8018.209473  7645.630371  22280812544   \n",
      "\n",
      "              Adj Close  \n",
      "Date                     \n",
      "2019-11-17  8577.975586  \n",
      "2019-11-18  8309.286133  \n",
      "2019-11-19  8206.145508  \n",
      "2019-11-20  8027.268066  \n",
      "2019-11-21  7645.630371  \n"
     ]
    }
   ],
   "source": [
    "#Setting the end date to today\n",
    "end = datetime.today()\n",
    "\n",
    "#Start date set to one year back\n",
    "start = datetime(end.year-8,end.month,end.day)\n",
    "#using yahoo finance to grab cryptocurrency data\n",
    "\n",
    "BTC = pdr.DataReader('BTC-USD','yahoo',start,end)\n",
    "ETH = pdr.DataReader('ETH-USD','yahoo',start,end)\n",
    "LTC = pdr.DataReader('LTC-USD','yahoo',start,end)\n",
    "\n",
    "print(BTC.tail())\n",
    "# print(ETH.head())\n",
    "# print(LTC.head())"
   ]
  },
  {
   "cell_type": "code",
   "execution_count": 16,
   "metadata": {},
   "outputs": [
    {
     "name": "stderr",
     "output_type": "stream",
     "text": [
      "/Library/Frameworks/Python.framework/Versions/3.7/lib/python3.7/site-packages/pandas/plotting/_converter.py:129: FutureWarning: Using an implicitly registered datetime converter for a matplotlib plotting method. The converter was registered by pandas on import. Future versions of pandas will require you to explicitly register matplotlib converters.\n",
      "\n",
      "To register the converters:\n",
      "\t>>> from pandas.plotting import register_matplotlib_converters\n",
      "\t>>> register_matplotlib_converters()\n",
      "  warnings.warn(msg, FutureWarning)\n"
     ]
    },
    {
     "data": {
      "image/png": "[encoded data removed]",
      "text/plain": [
       "<Figure size 432x288 with 1 Axes>"
      ]
     },
     "metadata": {
      "needs_background": "light"
     },
     "output_type": "display_data"
    }
   ],
   "source": [
    "plt.figure()\n",
    "plt.plot(BTC.index, BTC[\"Adj Close\"])\n",
    "plt.title('History of Crypto')\n",
    "plt.ylabel('Price (USD)')\n",
    "plt.xlabel('Date')\n",
    "plt.legend(['Close'], loc='upper left')\n",
    "plt.show()"
   ]
  },
  {
   "cell_type": "code",
   "execution_count": 23,
   "metadata": {},
   "outputs": [],
   "source": [
    "#Features\n",
    "train_cols = ['High', 'Low', 'Open', 'Close', 'Volume', 'Adj Close']\n",
    "#Make training set 80% of the data\n",
    "btc_train, btc_test = train_test_split(BTC, train_size=0.8, test_size=0.2, shuffle=False)\n",
    "x = btc_train.loc[:,train_cols].values\n",
    "scaler = MinMaxScaler()\n",
    "x_train = scaler.fit_transform(x)\n",
    "x_test = scaler.fit_transform(BTC.loc[:,train_cols])"
   ]
  },
  {
   "cell_type": "code",
   "execution_count": 24,
   "metadata": {},
   "outputs": [],
   "source": [
    "#How many days in the past that we want to look at\n",
    "TIME_STEPS = 5\n",
    "\n",
    "def build_timeseries(mat, y_col_index):\n",
    "    dim_0 = mat.shape[0] - TIME_STEPS\n",
    "    dim_1 = mat.shape[1]\n",
    "    x = np.zeros((dim_0, TIME_STEPS, dim_1))\n",
    "    y = np.zeros((dim_0,))\n",
    "    \n",
    "    for i in tqdm_notebook(range(dim_0)):\n",
    "        x[i] = mat[i:TIME_STEPS + i]\n",
    "        y[i] = mat[TIME_STEPS + i, y_col_index]\n",
    "    print(\"Length of time-series i/o\", x.shape, y.shape)\n",
    "    return x, y\n",
    "\n",
    "def trim_data(mat, batch_size):\n",
    "    num_rows_dropped = mat.shape[0]%batch_size\n",
    "    if(num_rows_dropped > 0):\n",
    "        return mat[:-num_rows_dropped]\n",
    "    else:\n",
    "        return mat"
   ]
  },
  {
   "cell_type": "code",
   "execution_count": 25,
   "metadata": {},
   "outputs": [
    {
     "data": {
      "application/vnd.jupyter.widget-view+json": {
       "model_id": "82d04fd668f74572906fdff99428a377",
       "version_major": 2,
       "version_minor": 0
      },
      "text/plain": [
       "HBox(children=(IntProgress(value=0, max=1508), HTML(value='')))"
      ]
     },
     "metadata": {},
     "output_type": "display_data"
    },
    {
     "name": "stdout",
     "output_type": "stream",
     "text": [
      "\n",
      "Length of time-series i/o (1508, 5, 6) (1508,)\n"
     ]
    },
    {
     "data": {
      "application/vnd.jupyter.widget-view+json": {
       "model_id": "f175e461eb65479b9fba11945423e67c",
       "version_major": 2,
       "version_minor": 0
      },
      "text/plain": [
       "HBox(children=(IntProgress(value=0, max=1887), HTML(value='')))"
      ]
     },
     "metadata": {},
     "output_type": "display_data"
    },
    {
     "name": "stdout",
     "output_type": "stream",
     "text": [
      "\n",
      "Length of time-series i/o (1887, 5, 6) (1887,)\n",
      "(943, 5, 6)\n"
     ]
    }
   ],
   "source": [
    "BATCH_SIZE = 2\n",
    "\n",
    "x_t, y_t = build_timeseries(x_train, 3)\n",
    "x_t = trim_data(x_t, BATCH_SIZE)\n",
    "y_t = trim_data(y_t, BATCH_SIZE)\n",
    "x_temp, y_temp = build_timeseries(x_test, 3)\n",
    "x_val, x_test_t = np.split(trim_data(x_temp, BATCH_SIZE), 2)\n",
    "y_val, y_test_t = np.split(trim_data(y_temp, BATCH_SIZE), 2)\n",
    "print(x_test_t.shape)"
   ]
  },
  {
   "cell_type": "code",
   "execution_count": 26,
   "metadata": {},
   "outputs": [
    {
     "name": "stdout",
     "output_type": "stream",
     "text": [
      "WARNING:tensorflow:From /Library/Frameworks/Python.framework/Versions/3.7/lib/python3.7/site-packages/keras/backend/tensorflow_backend.py:66: The name tf.get_default_graph is deprecated. Please use tf.compat.v1.get_default_graph instead.\n",
      "\n",
      "WARNING:tensorflow:From /Library/Frameworks/Python.framework/Versions/3.7/lib/python3.7/site-packages/keras/backend/tensorflow_backend.py:541: The name tf.placeholder is deprecated. Please use tf.compat.v1.placeholder instead.\n",
      "\n",
      "WARNING:tensorflow:From /Library/Frameworks/Python.framework/Versions/3.7/lib/python3.7/site-packages/keras/backend/tensorflow_backend.py:4432: The name tf.random_uniform is deprecated. Please use tf.random.uniform instead.\n",
      "\n",
      "WARNING:tensorflow:From /Library/Frameworks/Python.framework/Versions/3.7/lib/python3.7/site-packages/keras/backend/tensorflow_backend.py:148: The name tf.placeholder_with_default is deprecated. Please use tf.compat.v1.placeholder_with_default instead.\n",
      "\n",
      "WARNING:tensorflow:From /Library/Frameworks/Python.framework/Versions/3.7/lib/python3.7/site-packages/keras/backend/tensorflow_backend.py:3733: calling dropout (from tensorflow.python.ops.nn_ops) with keep_prob is deprecated and will be removed in a future version.\n",
      "Instructions for updating:\n",
      "Please use `rate` instead of `keep_prob`. Rate should be set to `rate = 1 - keep_prob`.\n",
      "WARNING:tensorflow:From /Library/Frameworks/Python.framework/Versions/3.7/lib/python3.7/site-packages/keras/optimizers.py:793: The name tf.train.Optimizer is deprecated. Please use tf.compat.v1.train.Optimizer instead.\n",
      "\n",
      "Model: \"sequential_1\"\n",
      "_________________________________________________________________\n",
      "Layer (type)                 Output Shape              Param #   \n",
      "=================================================================\n",
      "lstm_1 (LSTM)                (2, 100)                  42800     \n",
      "_________________________________________________________________\n",
      "dropout_1 (Dropout)          (2, 100)                  0         \n",
      "_________________________________________________________________\n",
      "dense_1 (Dense)              (2, 20)                   2020      \n",
      "_________________________________________________________________\n",
      "dense_2 (Dense)              (2, 1)                    21        \n",
      "=================================================================\n",
      "Total params: 44,841\n",
      "Trainable params: 44,841\n",
      "Non-trainable params: 0\n",
      "_________________________________________________________________\n",
      "WARNING:tensorflow:From /Library/Frameworks/Python.framework/Versions/3.7/lib/python3.7/site-packages/tensorflow/python/ops/math_grad.py:1250: add_dispatch_support.<locals>.wrapper (from tensorflow.python.ops.array_ops) is deprecated and will be removed in a future version.\n",
      "Instructions for updating:\n",
      "Use tf.where in 2.0, which has the same broadcast rule as np.where\n",
      "WARNING:tensorflow:From /Library/Frameworks/Python.framework/Versions/3.7/lib/python3.7/site-packages/keras/backend/tensorflow_backend.py:1033: The name tf.assign_add is deprecated. Please use tf.compat.v1.assign_add instead.\n",
      "\n",
      "Train on 1508 samples, validate on 942 samples\n",
      "Epoch 1/30\n",
      " - 4s - loss: 0.0108 - val_loss: 0.0832\n",
      "Epoch 2/30\n",
      " - 3s - loss: 0.0052 - val_loss: 0.0918\n",
      "Epoch 3/30\n",
      " - 3s - loss: 0.0072 - val_loss: 0.0932\n",
      "Epoch 4/30\n",
      " - 3s - loss: 0.0083 - val_loss: 0.0944\n",
      "Epoch 5/30\n",
      " - 3s - loss: 0.0083 - val_loss: 0.0913\n",
      "Epoch 6/30\n",
      " - 3s - loss: 0.0080 - val_loss: 0.1722\n",
      "Epoch 7/30\n",
      " - 3s - loss: 0.0131 - val_loss: 0.1772\n",
      "Epoch 8/30\n",
      " - 3s - loss: 0.0148 - val_loss: 0.1651\n",
      "Epoch 9/30\n",
      " - 3s - loss: 0.0151 - val_loss: 0.1338\n",
      "Epoch 10/30\n",
      " - 3s - loss: 0.0194 - val_loss: 0.1221\n",
      "Epoch 11/30\n",
      " - 3s - loss: 0.0110 - val_loss: 0.1052\n",
      "Epoch 12/30\n",
      " - 3s - loss: 0.0096 - val_loss: 0.1100\n",
      "Epoch 13/30\n",
      " - 3s - loss: 0.0068 - val_loss: 0.0943\n",
      "Epoch 14/30\n",
      " - 3s - loss: 0.0076 - val_loss: 0.1107\n",
      "Epoch 15/30\n",
      " - 3s - loss: 0.0070 - val_loss: 0.0872\n",
      "Epoch 16/30\n",
      " - 3s - loss: 0.0063 - val_loss: 0.0892\n",
      "Epoch 17/30\n",
      " - 3s - loss: 0.0079 - val_loss: 0.1084\n",
      "Epoch 18/30\n",
      " - 3s - loss: 0.0095 - val_loss: 0.0919\n",
      "Epoch 19/30\n",
      " - 3s - loss: 0.0075 - val_loss: 0.0900\n",
      "Epoch 20/30\n",
      " - 3s - loss: 0.0080 - val_loss: 0.0904\n",
      "Epoch 21/30\n",
      " - 3s - loss: 0.0053 - val_loss: 0.0971\n",
      "Epoch 22/30\n",
      " - 3s - loss: 0.0090 - val_loss: 0.0998\n",
      "Epoch 23/30\n",
      " - 3s - loss: 0.0078 - val_loss: 0.1035\n",
      "Epoch 24/30\n",
      " - 3s - loss: 0.0117 - val_loss: 0.1019\n",
      "Epoch 25/30\n",
      " - 3s - loss: 0.0113 - val_loss: 0.1006\n",
      "Epoch 26/30\n",
      " - 3s - loss: 0.0124 - val_loss: 0.1022\n",
      "Epoch 27/30\n",
      " - 3s - loss: 0.0108 - val_loss: 0.0986\n",
      "Epoch 28/30\n",
      " - 3s - loss: 0.0108 - val_loss: 0.0937\n",
      "Epoch 29/30\n",
      " - 3s - loss: 0.0154 - val_loss: 0.0975\n",
      "Epoch 30/30\n",
      " - 3s - loss: 0.0078 - val_loss: 0.0925\n"
     ]
    }
   ],
   "source": [
    "model = Sequential()\n",
    "model.add(LSTM(100, batch_input_shape=(BATCH_SIZE, TIME_STEPS, x_t.shape[2]), dropout=0.0,\n",
    "              recurrent_dropout=0.0, stateful=True, kernel_initializer='random_uniform'))\n",
    "model.add(Dropout(0.5))\n",
    "model.add(Dense(20, activation='relu'))\n",
    "model.add(Dense(1, activation='sigmoid'))\n",
    "model.compile(loss='mean_squared_error', optimizer='adam') \n",
    "model.summary()\n",
    "\n",
    "btc_history = model.fit(x_t, y_t, epochs=10, verbose=2, \n",
    "                        batch_size=BATCH_SIZE, shuffle=False, \n",
    "                        validation_data=(trim_data(x_val, BATCH_SIZE), trim_data(y_val, BATCH_SIZE)))"
   ]
  },
  {
   "cell_type": "code",
   "execution_count": 27,
   "metadata": {},
   "outputs": [
    {
     "name": "stdout",
     "output_type": "stream",
     "text": [
      "(943, 5, 6)\n",
      "Error is  0.03151622042435691 (942, 1) (942,)\n"
     ]
    }
   ],
   "source": [
    "y_pred = model.predict(trim_data(x_test_t, BATCH_SIZE), batch_size= BATCH_SIZE)\n",
    "print(x_test_t.shape)\n",
    "y_pred - y_pred.flatten()\n",
    "y_test_t = trim_data(y_test_t, BATCH_SIZE)\n",
    "error = mean_squared_error(y_test_t, y_pred)\n",
    "print(\"Error is \", error, y_pred.shape, y_test_t.shape)"
   ]
  },
  {
   "cell_type": "code",
   "execution_count": 28,
   "metadata": {},
   "outputs": [
    {
     "name": "stdout",
     "output_type": "stream",
     "text": [
      "(942, 1)\n",
      "(942,)\n"
     ]
    }
   ],
   "source": [
    "#3 being the amount of y_cols\n",
    "y_pred_org = (y_pred * scaler.data_range_[3] + scaler.data_min_[3])\n",
    "y_test_org_t = (y_test_t * scaler.data_range_[3] + scaler.data_min_[3])\n",
    "\n",
    "print(y_pred_org.shape)\n",
    "print(y_test_org_t.shape)"
   ]
  },
  {
   "cell_type": "code",
   "execution_count": 29,
   "metadata": {},
   "outputs": [
    {
     "data": {
      "text/plain": [
       "<matplotlib.legend.Legend at 0x13b361d68>"
      ]
     },
     "execution_count": 29,
     "metadata": {},
     "output_type": "execute_result"
    },
    {
     "data": {
      "image/png": "[encoded data removed]",
      "text/plain": [
       "<Figure size 432x288 with 1 Axes>"
      ]
     },
     "metadata": {
      "needs_background": "light"
     },
     "output_type": "display_data"
    }
   ],
   "source": [
    "plt.figure()\n",
    "plt.plot(btc_history.history['loss'])\n",
    "plt.plot(btc_history.history['val_loss'])\n",
    "plt.title('Model Loss')\n",
    "plt.ylabel('Loss')\n",
    "plt.xlabel('Epoch')\n",
    "plt.legend(['Train', 'Test'])"
   ]
  },
  {
   "cell_type": "code",
   "execution_count": 31,
   "metadata": {},
   "outputs": [
    {
     "data": {
      "image/png": "[encoded data removed]",
      "text/plain": [
       "<Figure size 432x288 with 1 Axes>"
      ]
     },
     "metadata": {
      "needs_background": "light"
     },
     "output_type": "display_data"
    }
   ],
   "source": [
    "plt.figure()\n",
    "plt.plot(y_test_org_t)\n",
    "plt.plot(y_pred_org)\n",
    "\n",
    "plt.title('Prediction vs. Real Stock Price')\n",
    "plt.xlabel('Days')\n",
    "plt.ylabel('Price')\n",
    "plt.legend(['Prediction', 'Real'])\n",
    "ax = plt.gca()\n",
    "plt.show()"
   ]
  },
  {
   "cell_type": "code",
   "execution_count": null,
   "metadata": {},
   "outputs": [],
   "source": []
  }
 ],
 "metadata": {
  "kernelspec": {
   "display_name": "Python 3",
   "language": "python",
   "name": "python3"
  },
  "language_info": {
   "codemirror_mode": {
    "name": "ipython",
    "version": 3
   },
   "file_extension": ".py",
   "mimetype": "text/x-python",
   "name": "python",
   "nbconvert_exporter": "python",
   "pygments_lexer": "ipython3",
   "version": "3.7.2"
  }
 },
 "nbformat": 4,
 "nbformat_minor": 2
}
