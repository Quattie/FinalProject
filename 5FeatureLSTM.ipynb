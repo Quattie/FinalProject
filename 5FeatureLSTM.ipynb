{
 "cells": [
  {
   "cell_type": "code",
   "execution_count": 1,
   "metadata": {},
   "outputs": [
    {
     "name": "stderr",
     "output_type": "stream",
     "text": [
      "Using TensorFlow backend.\n"
     ]
    }
   ],
   "source": [
    "import yfinance as yf\n",
    "import matplotlib as plt\n",
    "import numpy as np\n",
    "import pandas as pd\n",
    "import seaborn as sns\n",
    "import time\n",
    "import math\n",
    "from datetime import date\n",
    "\n",
    "from datetime import date\n",
    "from matplotlib import pyplot as plt\n",
    "from numpy.random import seed\n",
    "from pylab import rcParams\n",
    "from sklearn.metrics import mean_squared_error\n",
    "from sklearn.model_selection import train_test_split\n",
    "\n",
    "from tqdm import tqdm_notebook\n",
    "from sklearn.preprocessing import StandardScaler\n",
    "from sklearn.preprocessing import MinMaxScaler\n",
    "\n",
    "from tensorflow import set_random_seed\n",
    "from keras.models import Sequential\n",
    "from keras.layers import Dense, Dropout, LSTM\n",
    "from keras.utils import plot_model\n",
    "from keras import optimizers\n",
    "\n",
    "from ipywidgets import IntProgress"
   ]
  },
  {
   "cell_type": "code",
   "execution_count": 2,
   "metadata": {},
   "outputs": [
    {
     "data": {
      "text/html": [
       "<div>\n",
       "<style scoped>\n",
       "    .dataframe tbody tr th:only-of-type {\n",
       "        vertical-align: middle;\n",
       "    }\n",
       "\n",
       "    .dataframe tbody tr th {\n",
       "        vertical-align: top;\n",
       "    }\n",
       "\n",
       "    .dataframe thead th {\n",
       "        text-align: right;\n",
       "    }\n",
       "</style>\n",
       "<table border=\"1\" class=\"dataframe\">\n",
       "  <thead>\n",
       "    <tr style=\"text-align: right;\">\n",
       "      <th></th>\n",
       "      <th>Open</th>\n",
       "      <th>High</th>\n",
       "      <th>Low</th>\n",
       "      <th>Close</th>\n",
       "      <th>Volume</th>\n",
       "      <th>Dividends</th>\n",
       "      <th>Stock Splits</th>\n",
       "    </tr>\n",
       "    <tr>\n",
       "      <th>Date</th>\n",
       "      <th></th>\n",
       "      <th></th>\n",
       "      <th></th>\n",
       "      <th></th>\n",
       "      <th></th>\n",
       "      <th></th>\n",
       "      <th></th>\n",
       "    </tr>\n",
       "  </thead>\n",
       "  <tbody>\n",
       "    <tr>\n",
       "      <th>2019-11-18</th>\n",
       "      <td>52.680000</td>\n",
       "      <td>53.439999</td>\n",
       "      <td>52.669998</td>\n",
       "      <td>53.029999</td>\n",
       "      <td>13782000.0</td>\n",
       "      <td>0.0</td>\n",
       "      <td>0.0</td>\n",
       "    </tr>\n",
       "    <tr>\n",
       "      <th>2019-11-19</th>\n",
       "      <td>53.150002</td>\n",
       "      <td>53.310001</td>\n",
       "      <td>52.869999</td>\n",
       "      <td>53.080002</td>\n",
       "      <td>12679500.0</td>\n",
       "      <td>0.0</td>\n",
       "      <td>0.0</td>\n",
       "    </tr>\n",
       "    <tr>\n",
       "      <th>2019-11-20</th>\n",
       "      <td>53.099998</td>\n",
       "      <td>53.400002</td>\n",
       "      <td>53.009998</td>\n",
       "      <td>53.220001</td>\n",
       "      <td>11970300.0</td>\n",
       "      <td>0.0</td>\n",
       "      <td>0.0</td>\n",
       "    </tr>\n",
       "    <tr>\n",
       "      <th>2019-11-21</th>\n",
       "      <td>53.110001</td>\n",
       "      <td>53.340000</td>\n",
       "      <td>52.779999</td>\n",
       "      <td>52.959999</td>\n",
       "      <td>7856100.0</td>\n",
       "      <td>0.0</td>\n",
       "      <td>0.0</td>\n",
       "    </tr>\n",
       "    <tr>\n",
       "      <th>2019-11-22</th>\n",
       "      <td>52.959999</td>\n",
       "      <td>53.187801</td>\n",
       "      <td>52.750000</td>\n",
       "      <td>53.150002</td>\n",
       "      <td>4723311.0</td>\n",
       "      <td>0.0</td>\n",
       "      <td>0.0</td>\n",
       "    </tr>\n",
       "  </tbody>\n",
       "</table>\n",
       "</div>"
      ],
      "text/plain": [
       "                 Open       High        Low      Close      Volume  Dividends  \\\n",
       "Date                                                                            \n",
       "2019-11-18  52.680000  53.439999  52.669998  53.029999  13782000.0        0.0   \n",
       "2019-11-19  53.150002  53.310001  52.869999  53.080002  12679500.0        0.0   \n",
       "2019-11-20  53.099998  53.400002  53.009998  53.220001  11970300.0        0.0   \n",
       "2019-11-21  53.110001  53.340000  52.779999  52.959999   7856100.0        0.0   \n",
       "2019-11-22  52.959999  53.187801  52.750000  53.150002   4723311.0        0.0   \n",
       "\n",
       "            Stock Splits  \n",
       "Date                      \n",
       "2019-11-18           0.0  \n",
       "2019-11-19           0.0  \n",
       "2019-11-20           0.0  \n",
       "2019-11-21           0.0  \n",
       "2019-11-22           0.0  "
      ]
     },
     "execution_count": 2,
     "metadata": {},
     "output_type": "execute_result"
    }
   ],
   "source": [
    "tick = yf.Ticker(\"KO\")\n",
    "stock = tick.history(period='max')\n",
    "#Only use 4 years of data\n",
    "today = date.today()\n",
    "formed_date = today.strftime(\"%Y-%m-%d\")\n",
    "stock = stock.loc['2015-09-01':formed_date]\n",
    "stock.tail()\n"
   ]
  },
  {
   "cell_type": "code",
   "execution_count": 3,
   "metadata": {},
   "outputs": [
    {
     "name": "stderr",
     "output_type": "stream",
     "text": [
      "/Library/Frameworks/Python.framework/Versions/3.7/lib/python3.7/site-packages/pandas/plotting/_converter.py:129: FutureWarning: Using an implicitly registered datetime converter for a matplotlib plotting method. The converter was registered by pandas on import. Future versions of pandas will require you to explicitly register matplotlib converters.\n",
      "\n",
      "To register the converters:\n",
      "\t>>> from pandas.plotting import register_matplotlib_converters\n",
      "\t>>> register_matplotlib_converters()\n",
      "  warnings.warn(msg, FutureWarning)\n"
     ]
    },
    {
     "data": {
      "image/png": "[encoded data removed]",
      "text/plain": [
       "<Figure size 432x288 with 1 Axes>"
      ]
     },
     "metadata": {
      "needs_background": "light"
     },
     "output_type": "display_data"
    }
   ],
   "source": [
    "plt.figure()\n",
    "plt.plot(stock[\"Open\"])\n",
    "plt.plot(stock[\"Close\"])\n",
    "plt.title('History of Stock')\n",
    "plt.ylabel('Price (USD)')\n",
    "plt.xlabel('Days')\n",
    "plt.legend(['Open', 'Close', 'Volume'], loc='upper left')\n",
    "plt.show()"
   ]
  },
  {
   "cell_type": "code",
   "execution_count": 4,
   "metadata": {},
   "outputs": [
    {
     "data": {
      "image/png": "[encoded data removed]",
      "text/plain": [
       "<Figure size 432x288 with 1 Axes>"
      ]
     },
     "metadata": {
      "needs_background": "light"
     },
     "output_type": "display_data"
    }
   ],
   "source": [
    "plt.figure()\n",
    "plt.plot(stock[\"Volume\"])\n",
    "plt.title('Volume')\n",
    "plt.ylabel('Volume')\n",
    "plt.xlabel('Days')\n",
    "plt.legend(['Volume'], loc='upper left')\n",
    "plt.show()"
   ]
  },
  {
   "cell_type": "code",
   "execution_count": 5,
   "metadata": {},
   "outputs": [
    {
     "name": "stdout",
     "output_type": "stream",
     "text": [
      "[[3.36497674e+01 3.39630319e+01 3.37193832e+01 3.35366467e+01\n",
      "  2.37032000e+07]]\n",
      "[[0.0197008  0.02803225 0.02464485 0.0209302  0.55419388]]\n"
     ]
    }
   ],
   "source": [
    "#Features\n",
    "train_cols = ['Open', 'High', 'Close', 'Low', 'Volume']\n",
    "#Make training set 80% of the data\n",
    "vti_train, vti_test = train_test_split(stock, train_size=0.8, test_size=0.2, shuffle=False)\n",
    "x = vti_train.loc[:,train_cols].values\n",
    "scaler = MinMaxScaler()\n",
    "x_train = scaler.fit_transform(x)\n",
    "x_test = scaler.fit_transform(stock.loc[:,train_cols])\n",
    "print(x[:1])\n",
    "print(x_train[:1])"
   ]
  },
  {
   "cell_type": "code",
   "execution_count": 6,
   "metadata": {},
   "outputs": [],
   "source": [
    "#How many days in the past that we want to look at\n",
    "TIME_STEPS = 5\n",
    "\n",
    "def build_timeseries(mat, y_col_index):\n",
    "    dim_0 = mat.shape[0] - TIME_STEPS\n",
    "    dim_1 = mat.shape[1]\n",
    "    x = np.zeros((dim_0, TIME_STEPS, dim_1))\n",
    "    y = np.zeros((dim_0,))\n",
    "    \n",
    "    for i in tqdm_notebook(range(dim_0)):\n",
    "        x[i] = mat[i:TIME_STEPS + i]\n",
    "        y[i] = mat[TIME_STEPS + i, y_col_index]\n",
    "    print(\"Length of time-series i/o\", x.shape, y.shape)\n",
    "    return x, y\n",
    "\n",
    "def trim_data(mat, batch_size):\n",
    "    num_rows_dropped = mat.shape[0]%batch_size\n",
    "    if(num_rows_dropped > 0):\n",
    "        return mat[:-num_rows_dropped]\n",
    "    else:\n",
    "        return mat"
   ]
  },
  {
   "cell_type": "code",
   "execution_count": 7,
   "metadata": {},
   "outputs": [
    {
     "data": {
      "application/vnd.jupyter.widget-view+json": {
       "model_id": "24d9ec2c100345ff9bcd9ff70db7c5dc",
       "version_major": 2,
       "version_minor": 0
      },
      "text/plain": [
       "HBox(children=(IntProgress(value=0, max=847), HTML(value='')))"
      ]
     },
     "metadata": {},
     "output_type": "display_data"
    },
    {
     "name": "stdout",
     "output_type": "stream",
     "text": [
      "\n",
      "Length of time-series i/o (847, 5, 5) (847,)\n",
      "(847, 5, 5)\n",
      "(846, 5, 5)\n"
     ]
    },
    {
     "data": {
      "application/vnd.jupyter.widget-view+json": {
       "model_id": "d215dbb404ac423c9eac17d048c3cd69",
       "version_major": 2,
       "version_minor": 0
      },
      "text/plain": [
       "HBox(children=(IntProgress(value=0, max=1061), HTML(value='')))"
      ]
     },
     "metadata": {},
     "output_type": "display_data"
    },
    {
     "name": "stdout",
     "output_type": "stream",
     "text": [
      "\n",
      "Length of time-series i/o (1061, 5, 5) (1061,)\n",
      "(530, 5, 5)\n"
     ]
    }
   ],
   "source": [
    "BATCH_SIZE = 2\n",
    "\n",
    "x_t, y_t = build_timeseries(x_train, 3)\n",
    "print(x_t.shape)\n",
    "x_t = trim_data(x_t, BATCH_SIZE)\n",
    "print(x_t.shape)\n",
    "y_t = trim_data(y_t, BATCH_SIZE)\n",
    "x_temp, y_temp = build_timeseries(x_test, 3)\n",
    "x_val, x_test_t = np.split(trim_data(x_temp, BATCH_SIZE), 2)\n",
    "y_val, y_test_t = np.split(trim_data(y_temp, BATCH_SIZE), 2)\n",
    "print(x_test_t.shape)\n"
   ]
  },
  {
   "cell_type": "code",
   "execution_count": 8,
   "metadata": {},
   "outputs": [
    {
     "name": "stdout",
     "output_type": "stream",
     "text": [
      "WARNING:tensorflow:From /Library/Frameworks/Python.framework/Versions/3.7/lib/python3.7/site-packages/keras/backend/tensorflow_backend.py:66: The name tf.get_default_graph is deprecated. Please use tf.compat.v1.get_default_graph instead.\n",
      "\n",
      "WARNING:tensorflow:From /Library/Frameworks/Python.framework/Versions/3.7/lib/python3.7/site-packages/keras/backend/tensorflow_backend.py:541: The name tf.placeholder is deprecated. Please use tf.compat.v1.placeholder instead.\n",
      "\n",
      "WARNING:tensorflow:From /Library/Frameworks/Python.framework/Versions/3.7/lib/python3.7/site-packages/keras/backend/tensorflow_backend.py:4432: The name tf.random_uniform is deprecated. Please use tf.random.uniform instead.\n",
      "\n",
      "WARNING:tensorflow:From /Library/Frameworks/Python.framework/Versions/3.7/lib/python3.7/site-packages/keras/backend/tensorflow_backend.py:148: The name tf.placeholder_with_default is deprecated. Please use tf.compat.v1.placeholder_with_default instead.\n",
      "\n",
      "WARNING:tensorflow:From /Library/Frameworks/Python.framework/Versions/3.7/lib/python3.7/site-packages/keras/backend/tensorflow_backend.py:3733: calling dropout (from tensorflow.python.ops.nn_ops) with keep_prob is deprecated and will be removed in a future version.\n",
      "Instructions for updating:\n",
      "Please use `rate` instead of `keep_prob`. Rate should be set to `rate = 1 - keep_prob`.\n",
      "WARNING:tensorflow:From /Library/Frameworks/Python.framework/Versions/3.7/lib/python3.7/site-packages/keras/optimizers.py:793: The name tf.train.Optimizer is deprecated. Please use tf.compat.v1.train.Optimizer instead.\n",
      "\n",
      "WARNING:tensorflow:From /Library/Frameworks/Python.framework/Versions/3.7/lib/python3.7/site-packages/tensorflow/python/ops/math_grad.py:1250: add_dispatch_support.<locals>.wrapper (from tensorflow.python.ops.array_ops) is deprecated and will be removed in a future version.\n",
      "Instructions for updating:\n",
      "Use tf.where in 2.0, which has the same broadcast rule as np.where\n",
      "WARNING:tensorflow:From /Library/Frameworks/Python.framework/Versions/3.7/lib/python3.7/site-packages/keras/backend/tensorflow_backend.py:1033: The name tf.assign_add is deprecated. Please use tf.compat.v1.assign_add instead.\n",
      "\n",
      "Train on 846 samples, validate on 530 samples\n",
      "Epoch 1/30\n",
      " - 2s - loss: 0.0110 - val_loss: 0.4943\n",
      "Epoch 2/30\n",
      " - 2s - loss: 0.0228 - val_loss: 0.3713\n",
      "Epoch 3/30\n",
      " - 2s - loss: 0.0145 - val_loss: 0.1633\n",
      "Epoch 4/30\n",
      " - 2s - loss: 0.0077 - val_loss: 0.0859\n",
      "Epoch 5/30\n",
      " - 2s - loss: 0.0044 - val_loss: 0.0534\n",
      "Epoch 6/30\n",
      " - 2s - loss: 0.0035 - val_loss: 0.0545\n",
      "Epoch 7/30\n",
      " - 2s - loss: 0.0029 - val_loss: 0.0428\n",
      "Epoch 8/30\n",
      " - 2s - loss: 0.0028 - val_loss: 0.0407\n",
      "Epoch 9/30\n",
      " - 2s - loss: 0.0028 - val_loss: 0.0340\n",
      "Epoch 10/30\n",
      " - 2s - loss: 0.0025 - val_loss: 0.0292\n",
      "Epoch 11/30\n",
      " - 2s - loss: 0.0024 - val_loss: 0.0284\n",
      "Epoch 12/30\n",
      " - 2s - loss: 0.0021 - val_loss: 0.0255\n",
      "Epoch 13/30\n",
      " - 2s - loss: 0.0023 - val_loss: 0.0226\n",
      "Epoch 14/30\n",
      " - 2s - loss: 0.0022 - val_loss: 0.0205\n",
      "Epoch 15/30\n",
      " - 2s - loss: 0.0020 - val_loss: 0.0193\n",
      "Epoch 16/30\n",
      " - 2s - loss: 0.0019 - val_loss: 0.0151\n",
      "Epoch 17/30\n",
      " - 2s - loss: 0.0019 - val_loss: 0.0130\n",
      "Epoch 18/30\n",
      " - 2s - loss: 0.0018 - val_loss: 0.0113\n",
      "Epoch 19/30\n",
      " - 2s - loss: 0.0016 - val_loss: 0.0131\n",
      "Epoch 20/30\n",
      " - 2s - loss: 0.0016 - val_loss: 0.0124\n",
      "Epoch 21/30\n",
      " - 2s - loss: 0.0015 - val_loss: 0.0101\n",
      "Epoch 22/30\n",
      " - 2s - loss: 0.0014 - val_loss: 0.0119\n",
      "Epoch 23/30\n",
      " - 2s - loss: 0.0013 - val_loss: 0.0114\n",
      "Epoch 24/30\n",
      " - 2s - loss: 0.0014 - val_loss: 0.0115\n",
      "Epoch 25/30\n",
      " - 2s - loss: 0.0013 - val_loss: 0.0095\n",
      "Epoch 26/30\n",
      " - 2s - loss: 0.0014 - val_loss: 0.0108\n",
      "Epoch 27/30\n",
      " - 2s - loss: 0.0013 - val_loss: 0.0118\n",
      "Epoch 28/30\n",
      " - 2s - loss: 0.0012 - val_loss: 0.0114\n",
      "Epoch 29/30\n",
      " - 2s - loss: 0.0012 - val_loss: 0.0069\n",
      "Epoch 30/30\n",
      " - 2s - loss: 0.0012 - val_loss: 0.0079\n"
     ]
    }
   ],
   "source": [
    "model = Sequential()\n",
    "model.add(LSTM(100, batch_input_shape=(BATCH_SIZE, TIME_STEPS, x_t.shape[2]), dropout=0.0,\n",
    "              recurrent_dropout=0.0, stateful=True, kernel_initializer='random_uniform'))\n",
    "model.add(Dropout(0.5))\n",
    "model.add(Dense(20, activation='relu'))\n",
    "model.add(Dense(1, activation='sigmoid'))\n",
    "model.compile(loss='mean_squared_error', optimizer='adam') \n",
    "vti_history = model.fit(x_t, y_t, epochs=30, verbose=2, \n",
    "                        batch_size=BATCH_SIZE, shuffle=False, \n",
    "                        validation_data=(trim_data(x_val, BATCH_SIZE), trim_data(y_val, BATCH_SIZE)))"
   ]
  },
  {
   "cell_type": "code",
   "execution_count": 9,
   "metadata": {},
   "outputs": [
    {
     "name": "stdout",
     "output_type": "stream",
     "text": [
      "(530, 5, 5)\n",
      "Error is  0.007154007623846256 (530, 1) (530,)\n",
      "[[0.54500604]\n",
      " [0.5472552 ]\n",
      " [0.55924916]\n",
      " [0.5541378 ]\n",
      " [0.55455416]\n",
      " [0.5484491 ]\n",
      " [0.54838884]\n",
      " [0.53660595]\n",
      " [0.53391194]\n",
      " [0.5427922 ]\n",
      " [0.53634167]\n",
      " [0.52886254]\n",
      " [0.52872366]\n",
      " [0.52424395]\n",
      " [0.52370256]]\n",
      "[0.45865442 0.46772047 0.46469853 0.46815205 0.46642518 0.46426675\n",
      " 0.45217895 0.45131533 0.46383509 0.45045179 0.44656638 0.44742996\n",
      " 0.43836399 0.44354448 0.45088373]\n"
     ]
    }
   ],
   "source": [
    "y_pred = model.predict(trim_data(x_test_t, BATCH_SIZE), batch_size= BATCH_SIZE)\n",
    "print(x_test_t.shape)\n",
    "y_pred - y_pred.flatten()\n",
    "y_test_t = trim_data(y_test_t, BATCH_SIZE)\n",
    "error = mean_squared_error(y_test_t, y_pred)\n",
    "print(\"Error is \", error, y_pred.shape, y_test_t.shape)\n",
    "print(y_pred[0:15])\n",
    "print(y_test_t[0:15])"
   ]
  },
  {
   "cell_type": "code",
   "execution_count": 10,
   "metadata": {},
   "outputs": [
    {
     "name": "stdout",
     "output_type": "stream",
     "text": [
      "(530, 1)\n",
      "(530,)\n"
     ]
    }
   ],
   "source": [
    "#3 being the amount of y_cols\n",
    "y_pred_org = (y_pred * scaler.data_range_[3] + scaler.data_min_[3])\n",
    "y_test_org_t = (y_test_t * scaler.data_range_[3] + scaler.data_min_[3])\n",
    "\n",
    "print(y_pred_org.shape)\n",
    "print(y_test_org_t.shape)"
   ]
  },
  {
   "cell_type": "code",
   "execution_count": 11,
   "metadata": {},
   "outputs": [
    {
     "data": {
      "text/plain": [
       "<matplotlib.legend.Legend at 0x10c0fc2e8>"
      ]
     },
     "execution_count": 11,
     "metadata": {},
     "output_type": "execute_result"
    },
    {
     "data": {
      "image/png": "[encoded data removed]",
      "text/plain": [
       "<Figure size 432x288 with 1 Axes>"
      ]
     },
     "metadata": {
      "needs_background": "light"
     },
     "output_type": "display_data"
    }
   ],
   "source": [
    "plt.figure()\n",
    "plt.plot(vti_history.history['loss'])\n",
    "plt.plot(vti_history.history['val_loss'])\n",
    "plt.title('Model Loss')\n",
    "plt.ylabel('Loss')\n",
    "plt.xlabel('Epoch')\n",
    "plt.legend(['Train', 'Test'])"
   ]
  },
  {
   "cell_type": "code",
   "execution_count": 12,
   "metadata": {},
   "outputs": [
    {
     "data": {
      "image/png": "[encoded data removed]",
      "text/plain": [
       "<Figure size 432x288 with 1 Axes>"
      ]
     },
     "metadata": {
      "needs_background": "light"
     },
     "output_type": "display_data"
    }
   ],
   "source": [
    "plt.figure()\n",
    "plt.plot(y_pred_org)\n",
    "plt.plot(y_test_org_t)\n",
    "plt.title('Prediction vs. Real Stock Price')\n",
    "plt.xlabel('Days')\n",
    "plt.ylabel('Price')\n",
    "plt.legend(['Prediction', 'Real'])\n",
    "plt.savefig(\"charts/XXIIStock.png\")\n",
    "plt.show()"
   ]
  },
  {
   "cell_type": "code",
   "execution_count": 13,
   "metadata": {},
   "outputs": [
    {
     "data": {
      "application/vnd.jupyter.widget-view+json": {
       "model_id": "1f114d2206414a86b7ab7b5c7414335b",
       "version_major": 2,
       "version_minor": 0
      },
      "text/plain": [
       "HBox(children=(IntProgress(value=0, max=2), HTML(value='')))"
      ]
     },
     "metadata": {},
     "output_type": "display_data"
    },
    {
     "name": "stdout",
     "output_type": "stream",
     "text": [
      "\n",
      "Length of time-series i/o (2, 5, 5) (2,)\n",
      "                 Open       High        Low      Close      Volume  Dividends  \\\n",
      "Date                                                                            \n",
      "2019-11-14  52.529999  52.669998  52.349998  52.630001   8660300.0        0.0   \n",
      "2019-11-15  52.639999  52.680000  52.380001  52.669998   8982400.0        0.0   \n",
      "2019-11-18  52.680000  53.439999  52.669998  53.029999  13782000.0        0.0   \n",
      "2019-11-19  53.150002  53.310001  52.869999  53.080002  12679500.0        0.0   \n",
      "2019-11-20  53.099998  53.400002  53.009998  53.220001  11970300.0        0.0   \n",
      "2019-11-21  53.110001  53.340000  52.779999  52.959999   7856100.0        0.0   \n",
      "2019-11-22  52.959999  53.187801  52.750000  53.150002   4723311.0        0.0   \n",
      "\n",
      "            Stock Splits  \n",
      "Date                      \n",
      "2019-11-14           0.0  \n",
      "2019-11-15           0.0  \n",
      "2019-11-18           0.0  \n",
      "2019-11-19           0.0  \n",
      "2019-11-20           0.0  \n",
      "2019-11-21           0.0  \n",
      "2019-11-22           0.0  \n",
      "[52.77999878 52.75      ]\n",
      "[[52.9759  ]\n",
      " [52.922318]]\n"
     ]
    },
    {
     "data": {
      "text/plain": [
       "52.9759"
      ]
     },
     "execution_count": 13,
     "metadata": {},
     "output_type": "execute_result"
    }
   ],
   "source": [
    "next_pred = stock[-7:]\n",
    "#Features\n",
    "train_cols = ['Open', 'High', 'Close', 'Low', 'Volume']\n",
    "x_pred_values = next_pred.loc[:,train_cols].values\n",
    "predx = scaler.fit_transform(x_pred_values)\n",
    "x_fut, y_fut = build_timeseries(predx, 3)\n",
    "\n",
    "y_test_t = trim_data(y_test_t, BATCH_SIZE)\n",
    "\n",
    "future_pred = model.predict(trim_data(x_fut, BATCH_SIZE), batch_size= BATCH_SIZE)\n",
    "\n",
    "future_pred - future_pred.flatten()\n",
    "y_fut = trim_data(y_fut, BATCH_SIZE)\n",
    "\n",
    "fut_pred_org = (future_pred * scaler.data_range_[3] + scaler.data_min_[3])\n",
    "y_fut = (y_fut * scaler.data_range_[3] + scaler.data_min_[3])\n",
    "\n",
    "print(next_pred)\n",
    "print(y_fut)\n",
    "print(fut_pred_org)\n",
    "fut_pred_org[0][-1]"
   ]
  },
  {
   "cell_type": "code",
   "execution_count": null,
   "metadata": {},
   "outputs": [],
   "source": []
  }
 ],
 "metadata": {
  "kernelspec": {
   "display_name": "Python 3",
   "language": "python",
   "name": "python3"
  },
  "language_info": {
   "codemirror_mode": {
    "name": "ipython",
    "version": 3
   },
   "file_extension": ".py",
   "mimetype": "text/x-python",
   "name": "python",
   "nbconvert_exporter": "python",
   "pygments_lexer": "ipython3",
   "version": "3.7.2"
  }
 },
 "nbformat": 4,
 "nbformat_minor": 2
}
