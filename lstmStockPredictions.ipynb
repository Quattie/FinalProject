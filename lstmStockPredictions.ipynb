{
 "cells": [
  {
   "cell_type": "code",
   "execution_count": 1,
   "metadata": {},
   "outputs": [
    {
     "name": "stderr",
     "output_type": "stream",
     "text": [
      "Using TensorFlow backend.\n"
     ]
    }
   ],
   "source": [
    "import yfinance as yf\n",
    "import matplotlib\n",
    "import numpy as np\n",
    "import pandas as pd\n",
    "import seaborn as sns\n",
    "import time\n",
    "import math\n",
    "\n",
    "from datetime import date\n",
    "from matplotlib import pyplot as plt\n",
    "from numpy.random import seed\n",
    "from pylab import rcParams\n",
    "from sklearn.metrics import mean_squared_error\n",
    "from tqdm import tqdm_notebook\n",
    "from sklearn.preprocessing import StandardScaler\n",
    "from tensorflow import set_random_seed\n",
    "from keras.models import Sequential\n",
    "from keras.layers import Dense, Dropout, LSTM\n",
    "from keras.utils import plot_model\n",
    "from ipywidgets import IntProgress\n"
   ]
  },
  {
   "cell_type": "code",
   "execution_count": 32,
   "metadata": {},
   "outputs": [],
   "source": [
    "N = 9\n",
    "test_size = 0.2\n",
    "cv_size = 0.2\n",
    "dropout_prob = 1\n",
    "optimizer = 'adam'\n",
    "batch_size = 1\n",
    "epochs = 1\n",
    "fontsize = 14\n",
    "ticklabelsize = 14\n",
    "lstm_units = 50\n",
    "def get_mape(y_true, y_pred): \n",
    "    \"\"\"\n",
    "    Compute mean absolute percentage error (MAPE)\n",
    "    \"\"\"\n",
    "    y_true, y_pred = np.array(y_true), np.array(y_pred)\n",
    "    return np.mean(np.abs((y_true - y_pred) / y_true)) * 100\n",
    "                   \n",
    "def get_x_y(data, N, offset):\n",
    "    \"\"\"\n",
    "    Split data into x (features) and y (target)\n",
    "    \"\"\"\n",
    "    x, y = [], []\n",
    "    for i in range(offset, len(data)):\n",
    "        x.append(data[i-N:i])\n",
    "        y.append(data[i])\n",
    "    x = np.array(x)\n",
    "    y = np.array(y)\n",
    "    \n",
    "    return x, y\n",
    "\n",
    "def get_x_scaled_y(data, N, offset):\n",
    "    \"\"\"\n",
    "    Split data into x (features) and y (target)\n",
    "    We scale x to have mean 0 and std dev 1, and return this.\n",
    "    We do not scale y here.\n",
    "    Inputs\n",
    "        data     : pandas series to extract x and y\n",
    "        N\n",
    "        offset\n",
    "    Outputs\n",
    "        x_scaled : features used to predict y. Scaled such that each element has mean 0 and std dev 1\n",
    "        y        : target values. Not scaled\n",
    "        mu_list  : list of the means. Same length as x_scaled and y\n",
    "        std_list : list of the std devs. Same length as x_scaled and y\n",
    "    \"\"\"\n",
    "    x_scaled, y, mu_list, std_list = [], [], [], []\n",
    "    for i in range(offset, len(data)):\n",
    "        mu_list.append(np.mean(data[i-N:i]))\n",
    "        std_list.append(np.std(data[i-N:i]))\n",
    "        x_scaled.append((data[i-N:i]-mu_list[i-offset])/std_list[i-offset])\n",
    "        y.append(data[i])\n",
    "    x_scaled = np.array(x_scaled)\n",
    "    y = np.array(y)\n",
    "    \n",
    "    return x_scaled, y, mu_list, std_list\n",
    "\n",
    "def train_pred_eval_model(x_train_scaled, \\\n",
    "                          y_train_scaled, \\\n",
    "                          x_cv_scaled, \\\n",
    "                          y_cv, \\\n",
    "                          mu_cv_list, \\\n",
    "                          std_cv_list, \\\n",
    "                          lstm_units=50, \\\n",
    "                          dropout_prob=0.5, \\\n",
    "                          optimizer='adam', \\\n",
    "                          epochs=1, \\\n",
    "                          batch_size=1):\n",
    "    '''\n",
    "    Train model, do prediction, scale back to original range and do evaluation\n",
    "    Use LSTM here.\n",
    "    Returns rmse, mape and predicted values\n",
    "    Inputs\n",
    "        x_train_scaled  : e.g. x_train_scaled.shape=(451, 9, 1). Here we are using the past 9 values to predict the next value\n",
    "        y_train_scaled  : e.g. y_train_scaled.shape=(451, 1)\n",
    "        x_cv_scaled     : use this to do predictions \n",
    "        y_cv            : actual value of the predictions\n",
    "        mu_cv_list      : list of the means. Same length as x_scaled and y\n",
    "        std_cv_list     : list of the std devs. Same length as x_scaled and y \n",
    "        lstm_units      : lstm param\n",
    "        dropout_prob    : lstm param\n",
    "        optimizer       : lstm param\n",
    "        epochs          : lstm param\n",
    "        batch_size      : lstm param\n",
    "    Outputs\n",
    "        rmse            : root mean square error\n",
    "        mape            : mean absolute percentage error\n",
    "        est             : predictions\n",
    "    '''\n",
    "    # Create the LSTM network\n",
    "    model = Sequential()\n",
    "    model.add(LSTM(units=lstm_units, return_sequences=True, input_shape=(x_train_scaled.shape[1],1)))\n",
    "    model.add(Dropout(dropout_prob)) # Add dropout with a probability of 0.5\n",
    "    model.add(LSTM(units=lstm_units))\n",
    "    model.add(Dropout(dropout_prob)) # Add dropout with a probability of 0.5\n",
    "    model.add(Dense(1))\n",
    "\n",
    "    # Compile and fit the LSTM network\n",
    "    model.compile(loss='mean_squared_error', optimizer=optimizer)\n",
    "    model.fit(x_train_scaled, y_train_scaled, epochs=epochs, batch_size=batch_size, verbose=0)\n",
    "    \n",
    "    # Do prediction\n",
    "    est_scaled = model.predict(x_cv_scaled)\n",
    "    est = (est_scaled * np.array(std_cv_list).reshape(-1,1)) + np.array(mu_cv_list).reshape(-1,1)\n",
    "    \n",
    "    # Calculate RMSE and MAPE\n",
    "#     print(\"x_cv_scaled = \" + str(x_cv_scaled))\n",
    "#     print(\"est_scaled = \" + str(est_scaled))\n",
    "#     print(\"est = \" + str(est))\n",
    "    rmse = math.sqrt(mean_squared_error(y_cv, est))\n",
    "    mape = get_mape(y_cv, est)\n",
    "    \n",
    "    return rmse, mape, est, model"
   ]
  },
  {
   "cell_type": "code",
   "execution_count": 3,
   "metadata": {},
   "outputs": [
    {
     "data": {
      "text/html": [
       "<div>\n",
       "<style scoped>\n",
       "    .dataframe tbody tr th:only-of-type {\n",
       "        vertical-align: middle;\n",
       "    }\n",
       "\n",
       "    .dataframe tbody tr th {\n",
       "        vertical-align: top;\n",
       "    }\n",
       "\n",
       "    .dataframe thead th {\n",
       "        text-align: right;\n",
       "    }\n",
       "</style>\n",
       "<table border=\"1\" class=\"dataframe\">\n",
       "  <thead>\n",
       "    <tr style=\"text-align: right;\">\n",
       "      <th></th>\n",
       "      <th>date</th>\n",
       "      <th>close</th>\n",
       "    </tr>\n",
       "    <tr>\n",
       "      <th>Date</th>\n",
       "      <th></th>\n",
       "      <th></th>\n",
       "    </tr>\n",
       "  </thead>\n",
       "  <tbody>\n",
       "    <tr>\n",
       "      <th>2015-01-02</th>\n",
       "      <td>2015-01-02</td>\n",
       "      <td>97.17</td>\n",
       "    </tr>\n",
       "    <tr>\n",
       "      <th>2015-01-05</th>\n",
       "      <td>2015-01-05</td>\n",
       "      <td>95.51</td>\n",
       "    </tr>\n",
       "    <tr>\n",
       "      <th>2015-01-06</th>\n",
       "      <td>2015-01-06</td>\n",
       "      <td>94.57</td>\n",
       "    </tr>\n",
       "    <tr>\n",
       "      <th>2015-01-07</th>\n",
       "      <td>2015-01-07</td>\n",
       "      <td>95.70</td>\n",
       "    </tr>\n",
       "    <tr>\n",
       "      <th>2015-01-08</th>\n",
       "      <td>2015-01-08</td>\n",
       "      <td>97.39</td>\n",
       "    </tr>\n",
       "  </tbody>\n",
       "</table>\n",
       "</div>"
      ],
      "text/plain": [
       "                 date  close\n",
       "Date                        \n",
       "2015-01-02 2015-01-02  97.17\n",
       "2015-01-05 2015-01-05  95.51\n",
       "2015-01-06 2015-01-06  94.57\n",
       "2015-01-07 2015-01-07  95.70\n",
       "2015-01-08 2015-01-08  97.39"
      ]
     },
     "execution_count": 3,
     "metadata": {},
     "output_type": "execute_result"
    }
   ],
   "source": [
    "vti = yf.Ticker(\"VTI\")\n",
    "vtidf = vti.history(period='max')\n",
    "#Only use 4 years of data\n",
    "vtidf = vtidf.loc['2015-01-01':'2019-09-05']\n",
    "new_index = [i for i in range(len(vtidf))]\n",
    "data = { 'date':vtidf.index, 'close':vtidf['Close'] }\n",
    "df = pd.DataFrame(data)\n",
    "df.head()\n",
    "# df.columns = [str(x).lower().replace(' ', '_') for x in df.columns]"
   ]
  },
  {
   "cell_type": "code",
   "execution_count": 4,
   "metadata": {},
   "outputs": [
    {
     "data": {
      "text/plain": [
       "Text(0, 0.5, 'Price')"
      ]
     },
     "execution_count": 4,
     "metadata": {},
     "output_type": "execute_result"
    },
    {
     "data": {
      "image/png": "[encoded data removed]",
      "text/plain": [
       "<Figure size 720x576 with 1 Axes>"
      ]
     },
     "metadata": {
      "needs_background": "light"
     },
     "output_type": "display_data"
    }
   ],
   "source": [
    "rcParams['figure.figsize'] = 10, 8\n",
    "\n",
    "ax = df.plot(x='date', y='close', style='b-', grid=True)\n",
    "ax.set_xlabel('Date')\n",
    "ax.set_ylabel('Price')"
   ]
  },
  {
   "cell_type": "code",
   "execution_count": 5,
   "metadata": {},
   "outputs": [
    {
     "name": "stdout",
     "output_type": "stream",
     "text": [
      "num_train = 707\n",
      "num_cv = 235\n",
      "num_test = 235\n",
      "train.shape = (707, 2)\n",
      "cv.shape = (235, 2)\n",
      "train_cv.shape = (942, 2)\n",
      "test.shape = (235, 2)\n"
     ]
    }
   ],
   "source": [
    "#cross validation size\n",
    "num_cv = int(cv_size*len(df))\n",
    "#testing set size\n",
    "num_test = int(test_size*len(df))\n",
    "#training set size\n",
    "num_train = len(df) - num_cv - num_test\n",
    "print(\"num_train = \" + str(num_train))\n",
    "print(\"num_cv = \" + str(num_cv))\n",
    "print(\"num_test = \" + str(num_test))\n",
    "\n",
    "#split the data set in train, cross validation and test\n",
    "train = df[:num_train][['date', 'close']]\n",
    "cv = df[num_train:num_train+num_cv][['date', 'close']]\n",
    "train_cv = df[:num_train+num_cv][['date', 'close']]\n",
    "test = df[num_train+num_cv:][['date', 'close']]\n",
    "print(\"train.shape = \" + str(train.shape))\n",
    "print(\"cv.shape = \" + str(cv.shape))\n",
    "print(\"train_cv.shape = \" + str(train_cv.shape))\n",
    "print(\"test.shape = \" + str(test.shape))"
   ]
  },
  {
   "cell_type": "code",
   "execution_count": 6,
   "metadata": {},
   "outputs": [
    {
     "name": "stdout",
     "output_type": "stream",
     "text": [
      "scaler.mean_ = [105.2850495]\n",
      "scaler.var_ = [95.64876163]\n",
      "x_train_scaled.shape = (698, 9, 1)\n",
      "y_train_scaled.shape = (698, 1)\n"
     ]
    }
   ],
   "source": [
    "#scale the data into x_train and y_train\n",
    "scaler = StandardScaler()\n",
    "train_scaled = scaler.fit_transform(np.array(train['close']).reshape(-1,1))\n",
    "print(\"scaler.mean_ = \" + str(scaler.mean_))\n",
    "print(\"scaler.var_ = \" + str(scaler.var_))\n",
    "\n",
    "x_train_scaled, y_train_scaled = get_x_y(train_scaled, N, N)\n",
    "print(\"x_train_scaled.shape = \" + str(x_train_scaled.shape))\n",
    "print(\"y_train_scaled.shape = \" + str(y_train_scaled.shape)) "
   ]
  },
  {
   "cell_type": "code",
   "execution_count": 7,
   "metadata": {},
   "outputs": [
    {
     "name": "stdout",
     "output_type": "stream",
     "text": [
      "x_cv_scaled.shape = (235, 9, 1)\n",
      "y_cv.shape = (235, 1)\n",
      "len(mu_cv_list) = 235\n",
      "len(std_cv_list) = 235\n"
     ]
    }
   ],
   "source": [
    "#scale the cv data\n",
    "x_cv_scaled, y_cv, mu_cv, std_cv = get_x_scaled_y(np.array(train_cv['close']).reshape(-1,1), N, num_train)\n",
    "print(\"x_cv_scaled.shape = \" + str(x_cv_scaled.shape))\n",
    "print(\"y_cv.shape = \" + str(y_cv.shape))\n",
    "print(\"len(mu_cv_list) = \" + str(len(mu_cv)))\n",
    "print(\"len(std_cv_list) = \" + str(len(std_cv)))\n"
   ]
  },
  {
   "cell_type": "code",
   "execution_count": 8,
   "metadata": {},
   "outputs": [
    {
     "name": "stdout",
     "output_type": "stream",
     "text": [
      "scaler_final.mean_ = [113.2468259]\n",
      "scaler_final.var_ = [270.21547135]\n",
      "x_test_scaled.shape = (235, 9, 1)\n",
      "y_test.shape = (235, 1)\n",
      "len(mu_test_list) = 235\n",
      "len(std_test_list) = 235\n"
     ]
    }
   ],
   "source": [
    "#scale train_cv for the final model\n",
    "scaler_final = StandardScaler()\n",
    "train_cv_scaled_final = scaler_final.fit_transform(np.array(train_cv['close']).reshape(-1,1))\n",
    "print(\"scaler_final.mean_ = \" + str(scaler_final.mean_))\n",
    "print(\"scaler_final.var_ = \" + str(scaler_final.var_))\n",
    "\n",
    "# Scale the test dataset\n",
    "x_test_scaled, y_test, mu_test_list, std_test_list = get_x_scaled_y(np.array(df['close']).reshape(-1,1), N, num_train+num_cv)\n",
    "print(\"x_test_scaled.shape = \" + str(x_test_scaled.shape))\n",
    "print(\"y_test.shape = \" + str(y_test.shape))\n",
    "print(\"len(mu_test_list) = \" + str(len(mu_test_list)))\n",
    "print(\"len(std_test_list) = \" + str(len(std_test_list)))"
   ]
  },
  {
   "cell_type": "code",
   "execution_count": 9,
   "metadata": {},
   "outputs": [
    {
     "name": "stderr",
     "output_type": "stream",
     "text": [
      "WARNING: Logging before flag parsing goes to stderr.\n",
      "W0907 14:35:17.321210 4446397888 deprecation_wrapper.py:119] From /usr/local/lib/python3.7/site-packages/keras/backend/tensorflow_backend.py:74: The name tf.get_default_graph is deprecated. Please use tf.compat.v1.get_default_graph instead.\n",
      "\n",
      "W0907 14:35:17.341579 4446397888 deprecation_wrapper.py:119] From /usr/local/lib/python3.7/site-packages/keras/backend/tensorflow_backend.py:517: The name tf.placeholder is deprecated. Please use tf.compat.v1.placeholder instead.\n",
      "\n",
      "W0907 14:35:17.346026 4446397888 deprecation_wrapper.py:119] From /usr/local/lib/python3.7/site-packages/keras/backend/tensorflow_backend.py:4138: The name tf.random_uniform is deprecated. Please use tf.random.uniform instead.\n",
      "\n",
      "W0907 14:35:17.754313 4446397888 deprecation_wrapper.py:119] From /usr/local/lib/python3.7/site-packages/keras/optimizers.py:790: The name tf.train.Optimizer is deprecated. Please use tf.compat.v1.train.Optimizer instead.\n",
      "\n",
      "W0907 14:35:17.951972 4446397888 deprecation.py:323] From /usr/local/lib/python3.7/site-packages/tensorflow/python/ops/math_grad.py:1250: add_dispatch_support.<locals>.wrapper (from tensorflow.python.ops.array_ops) is deprecated and will be removed in a future version.\n",
      "Instructions for updating:\n",
      "Use tf.where in 2.0, which has the same broadcast rule as np.where\n",
      "W0907 14:35:18.938137 4446397888 deprecation_wrapper.py:119] From /usr/local/lib/python3.7/site-packages/keras/backend/tensorflow_backend.py:986: The name tf.assign_add is deprecated. Please use tf.compat.v1.assign_add instead.\n",
      "\n",
      "W0907 14:35:19.038114 4446397888 deprecation_wrapper.py:119] From /usr/local/lib/python3.7/site-packages/keras/backend/tensorflow_backend.py:973: The name tf.assign is deprecated. Please use tf.compat.v1.assign instead.\n",
      "\n"
     ]
    },
    {
     "name": "stdout",
     "output_type": "stream",
     "text": [
      "Epoch 1/3\n",
      " - 9s - loss: 0.0478\n",
      "Epoch 2/3\n",
      " - 7s - loss: 0.0256\n",
      "Epoch 3/3\n",
      " - 7s - loss: 0.0163\n"
     ]
    },
    {
     "data": {
      "text/plain": [
       "<keras.callbacks.History at 0x12ea5f588>"
      ]
     },
     "execution_count": 9,
     "metadata": {},
     "output_type": "execute_result"
    }
   ],
   "source": [
    "#LSTM TIME\n",
    "model = Sequential()\n",
    "model.add(LSTM(units=50, return_sequences=True, input_shape=(x_train_scaled.shape[1],1)))\n",
    "model.add(Dropout(1))\n",
    "model.add(LSTM(units=50))\n",
    "model.add(Dropout(1))\n",
    "model.add(Dense(1))\n",
    "\n",
    "model.compile(loss='mean_squared_error', optimizer='adam')\n",
    "model.fit(x_train_scaled, y_train_scaled, epochs=3, batch_size=1, verbose=2)\n"
   ]
  },
  {
   "cell_type": "code",
   "execution_count": 10,
   "metadata": {},
   "outputs": [
    {
     "name": "stdout",
     "output_type": "stream",
     "text": [
      "_________________________________________________________________\n",
      "Layer (type)                 Output Shape              Param #   \n",
      "=================================================================\n",
      "lstm_1 (LSTM)                (None, 9, 50)             10400     \n",
      "_________________________________________________________________\n",
      "dropout_1 (Dropout)          (None, 9, 50)             0         \n",
      "_________________________________________________________________\n",
      "lstm_2 (LSTM)                (None, 50)                20200     \n",
      "_________________________________________________________________\n",
      "dropout_2 (Dropout)          (None, 50)                0         \n",
      "_________________________________________________________________\n",
      "dense_1 (Dense)              (None, 1)                 51        \n",
      "=================================================================\n",
      "Total params: 30,651\n",
      "Trainable params: 30,651\n",
      "Non-trainable params: 0\n",
      "_________________________________________________________________\n"
     ]
    }
   ],
   "source": [
    "model.summary()"
   ]
  },
  {
   "cell_type": "code",
   "execution_count": 11,
   "metadata": {},
   "outputs": [
    {
     "name": "stdout",
     "output_type": "stream",
     "text": [
      "est.shape = (235, 1)\n",
      "RMSE = 1.413\n",
      "MAPE = 0.756%\n"
     ]
    }
   ],
   "source": [
    "estimated_scled = model.predict(x_cv_scaled)\n",
    "est = (estimated_scled * np.array(std_cv).reshape(-1,1)) + np.array(mu_cv).reshape(-1,1)\n",
    "print(\"est.shape = \" + str(est.shape))\n",
    "\n",
    "#Calculate the Mean Squared Error\n",
    "rmse_bef_tuning = math.sqrt(mean_squared_error(y_cv, est))\n",
    "print('RMSE = %0.3f' % rmse_bef_tuning)\n",
    "\n",
    "#Calculate Mean Absolute Percentage Error\n",
    "mape_pct_bef_tuning = get_mape(y_cv, est)\n",
    "print('MAPE = %0.3f%%' % mape_pct_bef_tuning)"
   ]
  },
  {
   "cell_type": "code",
   "execution_count": 12,
   "metadata": {},
   "outputs": [
    {
     "data": {
      "text/plain": [
       "Text(0, 0.5, 'USD')"
      ]
     },
     "execution_count": 12,
     "metadata": {},
     "output_type": "execute_result"
    },
    {
     "data": {
      "image/png": "[encoded data removed]",
      "text/plain": [
       "<Figure size 720x576 with 1 Axes>"
      ]
     },
     "metadata": {
      "needs_background": "light"
     },
     "output_type": "display_data"
    }
   ],
   "source": [
    "rcParams['figure.figsize'] = 10, 8\n",
    "\n",
    "estimated_df = pd.DataFrame({'est':est.reshape(-1),\n",
    "                            'y_cv':y_cv.reshape(-1),\n",
    "                            'date':cv['date']})\n",
    "ax = train.plot(x='date', y='close', style='b-', grid=True)\n",
    "ax = cv.plot(x='date', y='close', style='y-', grid=True, ax=ax)\n",
    "ax = test.plot(x='date', y='close', style='g-', grid=True, ax=ax)\n",
    "ax = estimated_df.plot(x='date', y='est', style='r-', grid=True, ax=ax)\n",
    "ax.legend(['train', 'dev', 'test', 'est'])\n",
    "ax.set_xlabel('date')\n",
    "ax.set_ylabel('USD')"
   ]
  },
  {
   "cell_type": "code",
   "execution_count": 13,
   "metadata": {},
   "outputs": [
    {
     "data": {
      "application/vnd.jupyter.widget-view+json": {
       "model_id": "2abad08b135c4afe8726c068c877c9a2",
       "version_major": 2,
       "version_minor": 0
      },
      "text/plain": [
       "HBox(children=(IntProgress(value=0, max=57), HTML(value='')))"
      ]
     },
     "metadata": {},
     "output_type": "display_data"
    },
    {
     "name": "stdout",
     "output_type": "stream",
     "text": [
      "(704, 3, 1)\n",
      "(704, 1)\n",
      "(703, 4, 1)\n",
      "(703, 1)\n",
      "(702, 5, 1)\n",
      "(702, 1)\n",
      "(701, 6, 1)\n",
      "(701, 1)\n",
      "(700, 7, 1)\n",
      "(700, 1)\n",
      "(699, 8, 1)\n",
      "(699, 1)\n",
      "(698, 9, 1)\n",
      "(698, 1)\n",
      "(697, 10, 1)\n",
      "(697, 1)\n",
      "(696, 11, 1)\n",
      "(696, 1)\n",
      "(695, 12, 1)\n",
      "(695, 1)\n",
      "(694, 13, 1)\n",
      "(694, 1)\n",
      "(693, 14, 1)\n",
      "(693, 1)\n",
      "(692, 15, 1)\n",
      "(692, 1)\n",
      "(691, 16, 1)\n",
      "(691, 1)\n",
      "(690, 17, 1)\n",
      "(690, 1)\n",
      "(689, 18, 1)\n",
      "(689, 1)\n",
      "(688, 19, 1)\n",
      "(688, 1)\n",
      "(687, 20, 1)\n",
      "(687, 1)\n",
      "(686, 21, 1)\n",
      "(686, 1)\n",
      "(685, 22, 1)\n",
      "(685, 1)\n",
      "(684, 23, 1)\n",
      "(684, 1)\n",
      "(683, 24, 1)\n",
      "(683, 1)\n",
      "(682, 25, 1)\n",
      "(682, 1)\n",
      "(681, 26, 1)\n",
      "(681, 1)\n",
      "(680, 27, 1)\n",
      "(680, 1)\n",
      "(679, 28, 1)\n",
      "(679, 1)\n",
      "(678, 29, 1)\n",
      "(678, 1)\n",
      "(677, 30, 1)\n",
      "(677, 1)\n",
      "(676, 31, 1)\n",
      "(676, 1)\n",
      "(675, 32, 1)\n",
      "(675, 1)\n",
      "(674, 33, 1)\n",
      "(674, 1)\n",
      "(673, 34, 1)\n",
      "(673, 1)\n",
      "(672, 35, 1)\n",
      "(672, 1)\n",
      "(671, 36, 1)\n",
      "(671, 1)\n",
      "(670, 37, 1)\n",
      "(670, 1)\n",
      "(669, 38, 1)\n",
      "(669, 1)\n",
      "(668, 39, 1)\n",
      "(668, 1)\n",
      "(667, 40, 1)\n",
      "(667, 1)\n",
      "(666, 41, 1)\n",
      "(666, 1)\n",
      "(665, 42, 1)\n",
      "(665, 1)\n",
      "(664, 43, 1)\n",
      "(664, 1)\n",
      "(663, 44, 1)\n",
      "(663, 1)\n",
      "(662, 45, 1)\n",
      "(662, 1)\n",
      "(661, 46, 1)\n",
      "(661, 1)\n",
      "(660, 47, 1)\n",
      "(660, 1)\n",
      "(659, 48, 1)\n",
      "(659, 1)\n",
      "(658, 49, 1)\n",
      "(658, 1)\n",
      "(657, 50, 1)\n",
      "(657, 1)\n",
      "(656, 51, 1)\n",
      "(656, 1)\n",
      "(655, 52, 1)\n",
      "(655, 1)\n",
      "(654, 53, 1)\n",
      "(654, 1)\n",
      "(653, 54, 1)\n",
      "(653, 1)\n",
      "(652, 55, 1)\n",
      "(652, 1)\n",
      "(651, 56, 1)\n",
      "(651, 1)\n",
      "(650, 57, 1)\n",
      "(650, 1)\n",
      "(649, 58, 1)\n",
      "(649, 1)\n",
      "(648, 59, 1)\n",
      "(648, 1)\n",
      "\n",
      "Minutes taken = 30.747467935085297\n"
     ]
    },
    {
     "data": {
      "text/html": [
       "<div>\n",
       "<style scoped>\n",
       "    .dataframe tbody tr th:only-of-type {\n",
       "        vertical-align: middle;\n",
       "    }\n",
       "\n",
       "    .dataframe tbody tr th {\n",
       "        vertical-align: top;\n",
       "    }\n",
       "\n",
       "    .dataframe thead th {\n",
       "        text-align: right;\n",
       "    }\n",
       "</style>\n",
       "<table border=\"1\" class=\"dataframe\">\n",
       "  <thead>\n",
       "    <tr style=\"text-align: right;\">\n",
       "      <th></th>\n",
       "      <th>N</th>\n",
       "      <th>rmse</th>\n",
       "      <th>mape_pct</th>\n",
       "    </tr>\n",
       "  </thead>\n",
       "  <tbody>\n",
       "    <tr>\n",
       "      <th>0</th>\n",
       "      <td>3</td>\n",
       "      <td>1.427404</td>\n",
       "      <td>0.753805</td>\n",
       "    </tr>\n",
       "    <tr>\n",
       "      <th>1</th>\n",
       "      <td>4</td>\n",
       "      <td>1.520476</td>\n",
       "      <td>0.815142</td>\n",
       "    </tr>\n",
       "    <tr>\n",
       "      <th>2</th>\n",
       "      <td>5</td>\n",
       "      <td>1.660183</td>\n",
       "      <td>0.880763</td>\n",
       "    </tr>\n",
       "    <tr>\n",
       "      <th>3</th>\n",
       "      <td>6</td>\n",
       "      <td>1.722286</td>\n",
       "      <td>0.906011</td>\n",
       "    </tr>\n",
       "    <tr>\n",
       "      <th>4</th>\n",
       "      <td>7</td>\n",
       "      <td>1.848618</td>\n",
       "      <td>0.969544</td>\n",
       "    </tr>\n",
       "    <tr>\n",
       "      <th>5</th>\n",
       "      <td>8</td>\n",
       "      <td>1.816870</td>\n",
       "      <td>0.958636</td>\n",
       "    </tr>\n",
       "    <tr>\n",
       "      <th>6</th>\n",
       "      <td>9</td>\n",
       "      <td>1.850606</td>\n",
       "      <td>0.985986</td>\n",
       "    </tr>\n",
       "    <tr>\n",
       "      <th>7</th>\n",
       "      <td>10</td>\n",
       "      <td>1.886784</td>\n",
       "      <td>1.003618</td>\n",
       "    </tr>\n",
       "    <tr>\n",
       "      <th>8</th>\n",
       "      <td>11</td>\n",
       "      <td>1.917399</td>\n",
       "      <td>1.031503</td>\n",
       "    </tr>\n",
       "    <tr>\n",
       "      <th>9</th>\n",
       "      <td>12</td>\n",
       "      <td>1.819607</td>\n",
       "      <td>0.970859</td>\n",
       "    </tr>\n",
       "    <tr>\n",
       "      <th>10</th>\n",
       "      <td>13</td>\n",
       "      <td>1.825721</td>\n",
       "      <td>0.979569</td>\n",
       "    </tr>\n",
       "    <tr>\n",
       "      <th>11</th>\n",
       "      <td>14</td>\n",
       "      <td>1.892235</td>\n",
       "      <td>1.022700</td>\n",
       "    </tr>\n",
       "    <tr>\n",
       "      <th>12</th>\n",
       "      <td>15</td>\n",
       "      <td>1.780883</td>\n",
       "      <td>0.942334</td>\n",
       "    </tr>\n",
       "    <tr>\n",
       "      <th>13</th>\n",
       "      <td>16</td>\n",
       "      <td>1.832627</td>\n",
       "      <td>0.982194</td>\n",
       "    </tr>\n",
       "    <tr>\n",
       "      <th>14</th>\n",
       "      <td>17</td>\n",
       "      <td>1.915614</td>\n",
       "      <td>1.039882</td>\n",
       "    </tr>\n",
       "    <tr>\n",
       "      <th>15</th>\n",
       "      <td>18</td>\n",
       "      <td>1.771071</td>\n",
       "      <td>0.945392</td>\n",
       "    </tr>\n",
       "    <tr>\n",
       "      <th>16</th>\n",
       "      <td>19</td>\n",
       "      <td>1.849742</td>\n",
       "      <td>0.993174</td>\n",
       "    </tr>\n",
       "    <tr>\n",
       "      <th>17</th>\n",
       "      <td>20</td>\n",
       "      <td>1.810481</td>\n",
       "      <td>0.979019</td>\n",
       "    </tr>\n",
       "    <tr>\n",
       "      <th>18</th>\n",
       "      <td>21</td>\n",
       "      <td>1.885770</td>\n",
       "      <td>0.983925</td>\n",
       "    </tr>\n",
       "    <tr>\n",
       "      <th>19</th>\n",
       "      <td>22</td>\n",
       "      <td>1.813541</td>\n",
       "      <td>0.977226</td>\n",
       "    </tr>\n",
       "    <tr>\n",
       "      <th>20</th>\n",
       "      <td>23</td>\n",
       "      <td>1.896988</td>\n",
       "      <td>1.010736</td>\n",
       "    </tr>\n",
       "    <tr>\n",
       "      <th>21</th>\n",
       "      <td>24</td>\n",
       "      <td>1.858618</td>\n",
       "      <td>0.969995</td>\n",
       "    </tr>\n",
       "    <tr>\n",
       "      <th>22</th>\n",
       "      <td>25</td>\n",
       "      <td>1.887612</td>\n",
       "      <td>0.980011</td>\n",
       "    </tr>\n",
       "    <tr>\n",
       "      <th>23</th>\n",
       "      <td>26</td>\n",
       "      <td>1.803598</td>\n",
       "      <td>0.968200</td>\n",
       "    </tr>\n",
       "    <tr>\n",
       "      <th>24</th>\n",
       "      <td>27</td>\n",
       "      <td>1.865797</td>\n",
       "      <td>0.996726</td>\n",
       "    </tr>\n",
       "    <tr>\n",
       "      <th>25</th>\n",
       "      <td>28</td>\n",
       "      <td>1.838203</td>\n",
       "      <td>0.974592</td>\n",
       "    </tr>\n",
       "    <tr>\n",
       "      <th>26</th>\n",
       "      <td>29</td>\n",
       "      <td>1.757438</td>\n",
       "      <td>0.935716</td>\n",
       "    </tr>\n",
       "    <tr>\n",
       "      <th>27</th>\n",
       "      <td>30</td>\n",
       "      <td>1.787043</td>\n",
       "      <td>0.938332</td>\n",
       "    </tr>\n",
       "    <tr>\n",
       "      <th>28</th>\n",
       "      <td>31</td>\n",
       "      <td>1.714458</td>\n",
       "      <td>0.908830</td>\n",
       "    </tr>\n",
       "    <tr>\n",
       "      <th>29</th>\n",
       "      <td>32</td>\n",
       "      <td>1.769455</td>\n",
       "      <td>0.915924</td>\n",
       "    </tr>\n",
       "    <tr>\n",
       "      <th>30</th>\n",
       "      <td>33</td>\n",
       "      <td>1.888870</td>\n",
       "      <td>0.997377</td>\n",
       "    </tr>\n",
       "    <tr>\n",
       "      <th>31</th>\n",
       "      <td>34</td>\n",
       "      <td>1.861347</td>\n",
       "      <td>1.001732</td>\n",
       "    </tr>\n",
       "    <tr>\n",
       "      <th>32</th>\n",
       "      <td>35</td>\n",
       "      <td>2.019617</td>\n",
       "      <td>1.062242</td>\n",
       "    </tr>\n",
       "    <tr>\n",
       "      <th>33</th>\n",
       "      <td>36</td>\n",
       "      <td>2.006512</td>\n",
       "      <td>1.083357</td>\n",
       "    </tr>\n",
       "    <tr>\n",
       "      <th>34</th>\n",
       "      <td>37</td>\n",
       "      <td>1.926347</td>\n",
       "      <td>1.010885</td>\n",
       "    </tr>\n",
       "    <tr>\n",
       "      <th>35</th>\n",
       "      <td>38</td>\n",
       "      <td>1.817758</td>\n",
       "      <td>0.949319</td>\n",
       "    </tr>\n",
       "    <tr>\n",
       "      <th>36</th>\n",
       "      <td>39</td>\n",
       "      <td>1.798697</td>\n",
       "      <td>0.944582</td>\n",
       "    </tr>\n",
       "    <tr>\n",
       "      <th>37</th>\n",
       "      <td>40</td>\n",
       "      <td>1.874832</td>\n",
       "      <td>0.977771</td>\n",
       "    </tr>\n",
       "    <tr>\n",
       "      <th>38</th>\n",
       "      <td>41</td>\n",
       "      <td>1.872977</td>\n",
       "      <td>0.997421</td>\n",
       "    </tr>\n",
       "    <tr>\n",
       "      <th>39</th>\n",
       "      <td>42</td>\n",
       "      <td>1.885142</td>\n",
       "      <td>1.005082</td>\n",
       "    </tr>\n",
       "    <tr>\n",
       "      <th>40</th>\n",
       "      <td>43</td>\n",
       "      <td>1.858955</td>\n",
       "      <td>0.999622</td>\n",
       "    </tr>\n",
       "    <tr>\n",
       "      <th>41</th>\n",
       "      <td>44</td>\n",
       "      <td>1.910696</td>\n",
       "      <td>1.026933</td>\n",
       "    </tr>\n",
       "    <tr>\n",
       "      <th>42</th>\n",
       "      <td>45</td>\n",
       "      <td>1.899117</td>\n",
       "      <td>1.017172</td>\n",
       "    </tr>\n",
       "    <tr>\n",
       "      <th>43</th>\n",
       "      <td>46</td>\n",
       "      <td>1.856525</td>\n",
       "      <td>0.962205</td>\n",
       "    </tr>\n",
       "    <tr>\n",
       "      <th>44</th>\n",
       "      <td>47</td>\n",
       "      <td>1.916986</td>\n",
       "      <td>1.048787</td>\n",
       "    </tr>\n",
       "    <tr>\n",
       "      <th>45</th>\n",
       "      <td>48</td>\n",
       "      <td>1.877921</td>\n",
       "      <td>1.019925</td>\n",
       "    </tr>\n",
       "    <tr>\n",
       "      <th>46</th>\n",
       "      <td>49</td>\n",
       "      <td>1.835514</td>\n",
       "      <td>1.001182</td>\n",
       "    </tr>\n",
       "    <tr>\n",
       "      <th>47</th>\n",
       "      <td>50</td>\n",
       "      <td>1.933960</td>\n",
       "      <td>1.064420</td>\n",
       "    </tr>\n",
       "    <tr>\n",
       "      <th>48</th>\n",
       "      <td>51</td>\n",
       "      <td>1.922407</td>\n",
       "      <td>1.004088</td>\n",
       "    </tr>\n",
       "    <tr>\n",
       "      <th>49</th>\n",
       "      <td>52</td>\n",
       "      <td>1.924559</td>\n",
       "      <td>1.037720</td>\n",
       "    </tr>\n",
       "    <tr>\n",
       "      <th>50</th>\n",
       "      <td>53</td>\n",
       "      <td>1.945817</td>\n",
       "      <td>1.063910</td>\n",
       "    </tr>\n",
       "    <tr>\n",
       "      <th>51</th>\n",
       "      <td>54</td>\n",
       "      <td>1.968500</td>\n",
       "      <td>1.032555</td>\n",
       "    </tr>\n",
       "    <tr>\n",
       "      <th>52</th>\n",
       "      <td>55</td>\n",
       "      <td>1.803800</td>\n",
       "      <td>0.963307</td>\n",
       "    </tr>\n",
       "    <tr>\n",
       "      <th>53</th>\n",
       "      <td>56</td>\n",
       "      <td>1.855985</td>\n",
       "      <td>0.975477</td>\n",
       "    </tr>\n",
       "    <tr>\n",
       "      <th>54</th>\n",
       "      <td>57</td>\n",
       "      <td>1.875938</td>\n",
       "      <td>0.970643</td>\n",
       "    </tr>\n",
       "    <tr>\n",
       "      <th>55</th>\n",
       "      <td>58</td>\n",
       "      <td>1.820613</td>\n",
       "      <td>0.968134</td>\n",
       "    </tr>\n",
       "    <tr>\n",
       "      <th>56</th>\n",
       "      <td>59</td>\n",
       "      <td>1.826584</td>\n",
       "      <td>0.942066</td>\n",
       "    </tr>\n",
       "  </tbody>\n",
       "</table>\n",
       "</div>"
      ],
      "text/plain": [
       "     N      rmse  mape_pct\n",
       "0    3  1.427404  0.753805\n",
       "1    4  1.520476  0.815142\n",
       "2    5  1.660183  0.880763\n",
       "3    6  1.722286  0.906011\n",
       "4    7  1.848618  0.969544\n",
       "5    8  1.816870  0.958636\n",
       "6    9  1.850606  0.985986\n",
       "7   10  1.886784  1.003618\n",
       "8   11  1.917399  1.031503\n",
       "9   12  1.819607  0.970859\n",
       "10  13  1.825721  0.979569\n",
       "11  14  1.892235  1.022700\n",
       "12  15  1.780883  0.942334\n",
       "13  16  1.832627  0.982194\n",
       "14  17  1.915614  1.039882\n",
       "15  18  1.771071  0.945392\n",
       "16  19  1.849742  0.993174\n",
       "17  20  1.810481  0.979019\n",
       "18  21  1.885770  0.983925\n",
       "19  22  1.813541  0.977226\n",
       "20  23  1.896988  1.010736\n",
       "21  24  1.858618  0.969995\n",
       "22  25  1.887612  0.980011\n",
       "23  26  1.803598  0.968200\n",
       "24  27  1.865797  0.996726\n",
       "25  28  1.838203  0.974592\n",
       "26  29  1.757438  0.935716\n",
       "27  30  1.787043  0.938332\n",
       "28  31  1.714458  0.908830\n",
       "29  32  1.769455  0.915924\n",
       "30  33  1.888870  0.997377\n",
       "31  34  1.861347  1.001732\n",
       "32  35  2.019617  1.062242\n",
       "33  36  2.006512  1.083357\n",
       "34  37  1.926347  1.010885\n",
       "35  38  1.817758  0.949319\n",
       "36  39  1.798697  0.944582\n",
       "37  40  1.874832  0.977771\n",
       "38  41  1.872977  0.997421\n",
       "39  42  1.885142  1.005082\n",
       "40  43  1.858955  0.999622\n",
       "41  44  1.910696  1.026933\n",
       "42  45  1.899117  1.017172\n",
       "43  46  1.856525  0.962205\n",
       "44  47  1.916986  1.048787\n",
       "45  48  1.877921  1.019925\n",
       "46  49  1.835514  1.001182\n",
       "47  50  1.933960  1.064420\n",
       "48  51  1.922407  1.004088\n",
       "49  52  1.924559  1.037720\n",
       "50  53  1.945817  1.063910\n",
       "51  54  1.968500  1.032555\n",
       "52  55  1.803800  0.963307\n",
       "53  56  1.855985  0.975477\n",
       "54  57  1.875938  0.970643\n",
       "55  58  1.820613  0.968134\n",
       "56  59  1.826584  0.942066"
      ]
     },
     "execution_count": 13,
     "metadata": {},
     "output_type": "execute_result"
    }
   ],
   "source": [
    "param_label = 'N'\n",
    "param_list = range(3, 60)\n",
    "\n",
    "error_rate = {param_label: [], 'rmse': [], 'mape_pct': []}\n",
    "tic = time.time()\n",
    "for param in tqdm_notebook(param_list):\n",
    "    #Split into x and y but we already did that\n",
    "    x_train_scaled, y_train_scaled = get_x_y(train_scaled, param, param)\n",
    "    #Split cv into x and y\n",
    "    x_cv_scaled, y_cv, mu_cv_list, std_cv_list = get_x_scaled_y(np.array(train_cv['close']).reshape(-1, 1), \n",
    "                                                                param, \n",
    "                                                                num_train)\n",
    "    print(x_train_scaled.shape)\n",
    "    print(y_train_scaled.shape)\n",
    "\n",
    "    #Train, predict and evaluate the model\n",
    "    rmse, mape, _ = train_pred_eval_model(x_train_scaled,\n",
    "                                          y_train_scaled,\n",
    "                                          x_cv_scaled,\n",
    "                                          y_cv,\n",
    "                                          mu_cv_list,\n",
    "                                          std_cv_list,\n",
    "                                          lstm_units=50,\n",
    "                                          dropout_prob=dropout_prob,\n",
    "                                          optimizer='adam',\n",
    "                                          epochs=1,\n",
    "                                          batch_size=1)\n",
    "    \n",
    "    #Collect all the results\n",
    "    error_rate[param_label].append(param)\n",
    "    error_rate['rmse'].append(rmse)\n",
    "    error_rate['mape_pct'].append(mape)\n",
    "    \n",
    "error_rate = pd.DataFrame(error_rate)\n",
    "toc = time.time()\n",
    "print(\"Minutes taken = \" + str((toc-tic)/60.0))\n",
    "error_rate"
   ]
  },
  {
   "cell_type": "code",
   "execution_count": 14,
   "metadata": {},
   "outputs": [
    {
     "data": {
      "text/plain": [
       "Text(0, 0.5, 'RMSE / MAPE (%)')"
      ]
     },
     "execution_count": 14,
     "metadata": {},
     "output_type": "execute_result"
    },
    {
     "data": {
      "image/png": "[encoded data removed]",
      "text/plain": [
       "<Figure size 720x576 with 1 Axes>"
      ]
     },
     "metadata": {
      "needs_background": "light"
     },
     "output_type": "display_data"
    }
   ],
   "source": [
    "rcParams['figure.figsize'] = 10, 8\n",
    "\n",
    "ax = error_rate.plot(x='N', y='rmse', style='bx-', grid=True)\n",
    "ax = error_rate.plot(x='N', y='mape_pct', style='rx-', grid=True, ax=ax)\n",
    "ax.set_xlabel('N')\n",
    "ax.set_ylabel('RMSE / MAPE (%)')"
   ]
  },
  {
   "cell_type": "code",
   "execution_count": 15,
   "metadata": {},
   "outputs": [
    {
     "name": "stdout",
     "output_type": "stream",
     "text": [
      "min RMSE = 1.427\n",
      "min MAPE = 0.754%\n",
      "optimum N = 3\n"
     ]
    }
   ],
   "source": [
    "# Get optimum value for param\n",
    "temp = error_rate[error_rate['rmse'] == error_rate['rmse'].min()]\n",
    "N_opt = temp['N'].values[0]\n",
    "print(\"min RMSE = %0.3f\" % error_rate['rmse'].min())\n",
    "print(\"min MAPE = %0.3f%%\" % error_rate['mape_pct'].min())\n",
    "print(\"optimum \" + param_label + \" = \" + str(N_opt))"
   ]
  },
  {
   "cell_type": "code",
   "execution_count": 16,
   "metadata": {
    "scrolled": true
   },
   "outputs": [
    {
     "data": {
      "application/vnd.jupyter.widget-view+json": {
       "model_id": "32620fe9ceaa4aa9a47b894eeaa513e5",
       "version_major": 2,
       "version_minor": 0
      },
      "text/plain": [
       "HBox(children=(IntProgress(value=0, max=6), HTML(value='')))"
      ]
     },
     "metadata": {},
     "output_type": "display_data"
    },
    {
     "data": {
      "application/vnd.jupyter.widget-view+json": {
       "model_id": "d122d707a7ba468b9630dd5c0c5cd8fa",
       "version_major": 2,
       "version_minor": 0
      },
      "text/plain": [
       "HBox(children=(IntProgress(value=0, max=5), HTML(value='')))"
      ]
     },
     "metadata": {},
     "output_type": "display_data"
    },
    {
     "name": "stdout",
     "output_type": "stream",
     "text": [
      "\n"
     ]
    },
    {
     "data": {
      "application/vnd.jupyter.widget-view+json": {
       "model_id": "e690ebc7236a414a9bdd630e04e262bd",
       "version_major": 2,
       "version_minor": 0
      },
      "text/plain": [
       "HBox(children=(IntProgress(value=0, max=5), HTML(value='')))"
      ]
     },
     "metadata": {},
     "output_type": "display_data"
    },
    {
     "name": "stdout",
     "output_type": "stream",
     "text": [
      "\n"
     ]
    },
    {
     "data": {
      "application/vnd.jupyter.widget-view+json": {
       "model_id": "182c69612b984303a81553f210804a4b",
       "version_major": 2,
       "version_minor": 0
      },
      "text/plain": [
       "HBox(children=(IntProgress(value=0, max=5), HTML(value='')))"
      ]
     },
     "metadata": {},
     "output_type": "display_data"
    },
    {
     "name": "stdout",
     "output_type": "stream",
     "text": [
      "\n"
     ]
    },
    {
     "data": {
      "application/vnd.jupyter.widget-view+json": {
       "model_id": "6f448a7b6c3f44d780f2778198efa9a9",
       "version_major": 2,
       "version_minor": 0
      },
      "text/plain": [
       "HBox(children=(IntProgress(value=0, max=5), HTML(value='')))"
      ]
     },
     "metadata": {},
     "output_type": "display_data"
    },
    {
     "name": "stdout",
     "output_type": "stream",
     "text": [
      "\n"
     ]
    },
    {
     "data": {
      "application/vnd.jupyter.widget-view+json": {
       "model_id": "5cfa2a1eb61146909b38da00d7149df1",
       "version_major": 2,
       "version_minor": 0
      },
      "text/plain": [
       "HBox(children=(IntProgress(value=0, max=5), HTML(value='')))"
      ]
     },
     "metadata": {},
     "output_type": "display_data"
    },
    {
     "name": "stdout",
     "output_type": "stream",
     "text": [
      "\n"
     ]
    },
    {
     "data": {
      "application/vnd.jupyter.widget-view+json": {
       "model_id": "74dd271408db4562818fce8eb525f176",
       "version_major": 2,
       "version_minor": 0
      },
      "text/plain": [
       "HBox(children=(IntProgress(value=0, max=5), HTML(value='')))"
      ]
     },
     "metadata": {},
     "output_type": "display_data"
    },
    {
     "name": "stdout",
     "output_type": "stream",
     "text": [
      "\n",
      "\n",
      "Minutes taken = 14.390383219718933\n"
     ]
    },
    {
     "data": {
      "text/html": [
       "<div>\n",
       "<style scoped>\n",
       "    .dataframe tbody tr th:only-of-type {\n",
       "        vertical-align: middle;\n",
       "    }\n",
       "\n",
       "    .dataframe tbody tr th {\n",
       "        vertical-align: top;\n",
       "    }\n",
       "\n",
       "    .dataframe thead th {\n",
       "        text-align: right;\n",
       "    }\n",
       "</style>\n",
       "<table border=\"1\" class=\"dataframe\">\n",
       "  <thead>\n",
       "    <tr style=\"text-align: right;\">\n",
       "      <th></th>\n",
       "      <th>epochs</th>\n",
       "      <th>batch_size</th>\n",
       "      <th>rmse</th>\n",
       "      <th>mape_pct</th>\n",
       "    </tr>\n",
       "  </thead>\n",
       "  <tbody>\n",
       "    <tr>\n",
       "      <th>0</th>\n",
       "      <td>1</td>\n",
       "      <td>8</td>\n",
       "      <td>1.427749</td>\n",
       "      <td>0.751523</td>\n",
       "    </tr>\n",
       "    <tr>\n",
       "      <th>1</th>\n",
       "      <td>1</td>\n",
       "      <td>16</td>\n",
       "      <td>1.424976</td>\n",
       "      <td>0.753602</td>\n",
       "    </tr>\n",
       "    <tr>\n",
       "      <th>2</th>\n",
       "      <td>1</td>\n",
       "      <td>32</td>\n",
       "      <td>1.301341</td>\n",
       "      <td>0.684032</td>\n",
       "    </tr>\n",
       "    <tr>\n",
       "      <th>3</th>\n",
       "      <td>1</td>\n",
       "      <td>64</td>\n",
       "      <td>1.277821</td>\n",
       "      <td>0.671278</td>\n",
       "    </tr>\n",
       "    <tr>\n",
       "      <th>4</th>\n",
       "      <td>1</td>\n",
       "      <td>128</td>\n",
       "      <td>1.274961</td>\n",
       "      <td>0.670623</td>\n",
       "    </tr>\n",
       "    <tr>\n",
       "      <th>5</th>\n",
       "      <td>10</td>\n",
       "      <td>8</td>\n",
       "      <td>1.361915</td>\n",
       "      <td>0.716009</td>\n",
       "    </tr>\n",
       "    <tr>\n",
       "      <th>6</th>\n",
       "      <td>10</td>\n",
       "      <td>16</td>\n",
       "      <td>1.405422</td>\n",
       "      <td>0.741531</td>\n",
       "    </tr>\n",
       "    <tr>\n",
       "      <th>7</th>\n",
       "      <td>10</td>\n",
       "      <td>32</td>\n",
       "      <td>1.423919</td>\n",
       "      <td>0.751037</td>\n",
       "    </tr>\n",
       "    <tr>\n",
       "      <th>8</th>\n",
       "      <td>10</td>\n",
       "      <td>64</td>\n",
       "      <td>1.424257</td>\n",
       "      <td>0.751726</td>\n",
       "    </tr>\n",
       "    <tr>\n",
       "      <th>9</th>\n",
       "      <td>10</td>\n",
       "      <td>128</td>\n",
       "      <td>1.436213</td>\n",
       "      <td>0.765578</td>\n",
       "    </tr>\n",
       "    <tr>\n",
       "      <th>10</th>\n",
       "      <td>20</td>\n",
       "      <td>8</td>\n",
       "      <td>1.273308</td>\n",
       "      <td>0.665671</td>\n",
       "    </tr>\n",
       "    <tr>\n",
       "      <th>11</th>\n",
       "      <td>20</td>\n",
       "      <td>16</td>\n",
       "      <td>1.356781</td>\n",
       "      <td>0.713109</td>\n",
       "    </tr>\n",
       "    <tr>\n",
       "      <th>12</th>\n",
       "      <td>20</td>\n",
       "      <td>32</td>\n",
       "      <td>1.391664</td>\n",
       "      <td>0.732759</td>\n",
       "    </tr>\n",
       "    <tr>\n",
       "      <th>13</th>\n",
       "      <td>20</td>\n",
       "      <td>64</td>\n",
       "      <td>1.424084</td>\n",
       "      <td>0.751584</td>\n",
       "    </tr>\n",
       "    <tr>\n",
       "      <th>14</th>\n",
       "      <td>20</td>\n",
       "      <td>128</td>\n",
       "      <td>1.436307</td>\n",
       "      <td>0.758390</td>\n",
       "    </tr>\n",
       "    <tr>\n",
       "      <th>15</th>\n",
       "      <td>30</td>\n",
       "      <td>8</td>\n",
       "      <td>1.168437</td>\n",
       "      <td>0.604970</td>\n",
       "    </tr>\n",
       "    <tr>\n",
       "      <th>16</th>\n",
       "      <td>30</td>\n",
       "      <td>16</td>\n",
       "      <td>1.294066</td>\n",
       "      <td>0.678499</td>\n",
       "    </tr>\n",
       "    <tr>\n",
       "      <th>17</th>\n",
       "      <td>30</td>\n",
       "      <td>32</td>\n",
       "      <td>1.369227</td>\n",
       "      <td>0.720586</td>\n",
       "    </tr>\n",
       "    <tr>\n",
       "      <th>18</th>\n",
       "      <td>30</td>\n",
       "      <td>64</td>\n",
       "      <td>1.407934</td>\n",
       "      <td>0.742865</td>\n",
       "    </tr>\n",
       "    <tr>\n",
       "      <th>19</th>\n",
       "      <td>30</td>\n",
       "      <td>128</td>\n",
       "      <td>1.422750</td>\n",
       "      <td>0.751312</td>\n",
       "    </tr>\n",
       "    <tr>\n",
       "      <th>20</th>\n",
       "      <td>40</td>\n",
       "      <td>8</td>\n",
       "      <td>1.110869</td>\n",
       "      <td>0.567944</td>\n",
       "    </tr>\n",
       "    <tr>\n",
       "      <th>21</th>\n",
       "      <td>40</td>\n",
       "      <td>16</td>\n",
       "      <td>1.216310</td>\n",
       "      <td>0.630580</td>\n",
       "    </tr>\n",
       "    <tr>\n",
       "      <th>22</th>\n",
       "      <td>40</td>\n",
       "      <td>32</td>\n",
       "      <td>1.358535</td>\n",
       "      <td>0.713809</td>\n",
       "    </tr>\n",
       "    <tr>\n",
       "      <th>23</th>\n",
       "      <td>40</td>\n",
       "      <td>64</td>\n",
       "      <td>1.398232</td>\n",
       "      <td>0.737051</td>\n",
       "    </tr>\n",
       "    <tr>\n",
       "      <th>24</th>\n",
       "      <td>40</td>\n",
       "      <td>128</td>\n",
       "      <td>1.427196</td>\n",
       "      <td>0.753438</td>\n",
       "    </tr>\n",
       "    <tr>\n",
       "      <th>25</th>\n",
       "      <td>50</td>\n",
       "      <td>8</td>\n",
       "      <td>1.093342</td>\n",
       "      <td>0.562225</td>\n",
       "    </tr>\n",
       "    <tr>\n",
       "      <th>26</th>\n",
       "      <td>50</td>\n",
       "      <td>16</td>\n",
       "      <td>1.162052</td>\n",
       "      <td>0.600960</td>\n",
       "    </tr>\n",
       "    <tr>\n",
       "      <th>27</th>\n",
       "      <td>50</td>\n",
       "      <td>32</td>\n",
       "      <td>1.306464</td>\n",
       "      <td>0.683940</td>\n",
       "    </tr>\n",
       "    <tr>\n",
       "      <th>28</th>\n",
       "      <td>50</td>\n",
       "      <td>64</td>\n",
       "      <td>1.387257</td>\n",
       "      <td>0.730827</td>\n",
       "    </tr>\n",
       "    <tr>\n",
       "      <th>29</th>\n",
       "      <td>50</td>\n",
       "      <td>128</td>\n",
       "      <td>1.419842</td>\n",
       "      <td>0.749483</td>\n",
       "    </tr>\n",
       "  </tbody>\n",
       "</table>\n",
       "</div>"
      ],
      "text/plain": [
       "    epochs  batch_size      rmse  mape_pct\n",
       "0        1           8  1.427749  0.751523\n",
       "1        1          16  1.424976  0.753602\n",
       "2        1          32  1.301341  0.684032\n",
       "3        1          64  1.277821  0.671278\n",
       "4        1         128  1.274961  0.670623\n",
       "5       10           8  1.361915  0.716009\n",
       "6       10          16  1.405422  0.741531\n",
       "7       10          32  1.423919  0.751037\n",
       "8       10          64  1.424257  0.751726\n",
       "9       10         128  1.436213  0.765578\n",
       "10      20           8  1.273308  0.665671\n",
       "11      20          16  1.356781  0.713109\n",
       "12      20          32  1.391664  0.732759\n",
       "13      20          64  1.424084  0.751584\n",
       "14      20         128  1.436307  0.758390\n",
       "15      30           8  1.168437  0.604970\n",
       "16      30          16  1.294066  0.678499\n",
       "17      30          32  1.369227  0.720586\n",
       "18      30          64  1.407934  0.742865\n",
       "19      30         128  1.422750  0.751312\n",
       "20      40           8  1.110869  0.567944\n",
       "21      40          16  1.216310  0.630580\n",
       "22      40          32  1.358535  0.713809\n",
       "23      40          64  1.398232  0.737051\n",
       "24      40         128  1.427196  0.753438\n",
       "25      50           8  1.093342  0.562225\n",
       "26      50          16  1.162052  0.600960\n",
       "27      50          32  1.306464  0.683940\n",
       "28      50          64  1.387257  0.730827\n",
       "29      50         128  1.419842  0.749483"
      ]
     },
     "execution_count": 16,
     "metadata": {},
     "output_type": "execute_result"
    }
   ],
   "source": [
    "epoch_param_label = 'epochs'\n",
    "epoch_param_list = [1, 10, 20, 30, 40, 50]\n",
    "\n",
    "batch_param_label = 'batch_size'\n",
    "batch_param_list = [8, 16, 32, 64, 128]\n",
    "\n",
    "x_train_scaled, y_train_scaled = get_x_y(train_scaled, N_opt, N_opt)\n",
    "\n",
    "x_cv_scaled, y_cv, mu_cv_list, std_cv_list = get_x_scaled_y(np.array(train_cv['close']).reshape(-1, 1), \n",
    "                                                                N_opt, \n",
    "                                                                num_train)\n",
    "\n",
    "be_error_rate = {epoch_param_label: [], batch_param_label: [],'rmse': [], 'mape_pct': []}\n",
    "tic = time.time()\n",
    "for param in tqdm_notebook(epoch_param_list):\n",
    "    \n",
    "    for param2 in tqdm_notebook(batch_param_list):\n",
    "        \n",
    "        rmse, mape, _ = train_pred_eval_model(x_train_scaled,\n",
    "                                          y_train_scaled,\n",
    "                                          x_cv_scaled,\n",
    "                                          y_cv,\n",
    "                                          mu_cv_list,\n",
    "                                          std_cv_list,\n",
    "                                          lstm_units=50,\n",
    "                                          dropout_prob=dropout_prob,\n",
    "                                          optimizer='adam',\n",
    "                                          epochs=param,\n",
    "                                          batch_size=param2)\n",
    "        be_error_rate[epoch_param_label].append(param)\n",
    "        be_error_rate[batch_param_label].append(param2)\n",
    "        be_error_rate['rmse'].append(rmse)\n",
    "        be_error_rate['mape_pct'].append(mape)\n",
    "\n",
    "be_error_rate = pd.DataFrame(be_error_rate)\n",
    "toc = time.time()\n",
    "print(\"Minutes taken = \" + str((toc-tic)/60.0))\n",
    "be_error_rate"
   ]
  },
  {
   "cell_type": "code",
   "execution_count": 17,
   "metadata": {},
   "outputs": [
    {
     "data": {
      "text/plain": [
       "<matplotlib.legend.Legend at 0x1b49c6710>"
      ]
     },
     "execution_count": 17,
     "metadata": {},
     "output_type": "execute_result"
    },
    {
     "data": {
      "image/png": "[encoded data removed]",
      "text/plain": [
       "<Figure size 720x576 with 1 Axes>"
      ]
     },
     "metadata": {
      "needs_background": "light"
     },
     "output_type": "display_data"
    }
   ],
   "source": [
    "# Plot performance versus params\n",
    "rcParams['figure.figsize'] = 10, 8 # width 10, height 8\n",
    "temp = be_error_rate[be_error_rate[batch_param_label]==batch_param_list[0]]\n",
    "ax = temp.plot(x=epoch_param_label, y='rmse', style='bs-', grid=True)\n",
    "legend_list = [batch_param_label + '_' + str(batch_param_list[0])]\n",
    "\n",
    "color_list = ['r', 'g', 'k', 'y', 'm', 'c', '0.75']\n",
    "for i in range(1,len(batch_param_list)):\n",
    "    temp = be_error_rate[be_error_rate[batch_param_label]==batch_param_list[i]]\n",
    "    ax = temp.plot(x=epoch_param_label, y='rmse', color=color_list[i%len(color_list)], marker='s', grid=True, ax=ax)\n",
    "    legend_list.append(batch_param_label + '_' + str(batch_param_list[i]))\n",
    "\n",
    "ax.set_xlabel(epoch_param_label)\n",
    "ax.set_ylabel(\"RMSE\")\n",
    "matplotlib.rcParams.update({'font.size': 14})\n",
    "plt.legend(legend_list, loc='center left', bbox_to_anchor=(1.0, 0.5)) # positions legend outside figure"
   ]
  },
  {
   "cell_type": "code",
   "execution_count": 18,
   "metadata": {},
   "outputs": [
    {
     "name": "stdout",
     "output_type": "stream",
     "text": [
      "min RMSE = 1.093\n",
      "min MAPE = 0.562%\n",
      "optimum epochs = 50\n",
      "optimum batch_size = 8\n"
     ]
    }
   ],
   "source": [
    "# Get optimum value for Epochs and Batch size\n",
    "temp = be_error_rate[be_error_rate['rmse'] == be_error_rate['rmse'].min()]\n",
    "epochs_opt = temp[epoch_param_label].values[0]\n",
    "batch_size_opt = temp[batch_param_label].values[0]\n",
    "print(\"min RMSE = %0.3f\" % be_error_rate['rmse'].min())\n",
    "print(\"min MAPE = %0.3f%%\" % be_error_rate['mape_pct'].min())\n",
    "print(\"optimum \" + epoch_param_label + \" = \" + str(epochs_opt))\n",
    "print(\"optimum \" + batch_param_label + \" = \" + str(batch_size_opt))"
   ]
  },
  {
   "cell_type": "code",
   "execution_count": 19,
   "metadata": {},
   "outputs": [
    {
     "data": {
      "application/vnd.jupyter.widget-view+json": {
       "model_id": "69489636a7374dd3a5d42e01d84c4917",
       "version_major": 2,
       "version_minor": 0
      },
      "text/plain": [
       "HBox(children=(IntProgress(value=0, max=4), HTML(value='')))"
      ]
     },
     "metadata": {},
     "output_type": "display_data"
    },
    {
     "data": {
      "application/vnd.jupyter.widget-view+json": {
       "model_id": "096f42cefd064f02a452664d8eb03527",
       "version_major": 2,
       "version_minor": 0
      },
      "text/plain": [
       "HBox(children=(IntProgress(value=0, max=6), HTML(value='')))"
      ]
     },
     "metadata": {},
     "output_type": "display_data"
    },
    {
     "name": "stderr",
     "output_type": "stream",
     "text": [
      "W0907 15:20:52.385826 4446397888 deprecation.py:506] From /usr/local/lib/python3.7/site-packages/keras/backend/tensorflow_backend.py:3445: calling dropout (from tensorflow.python.ops.nn_ops) with keep_prob is deprecated and will be removed in a future version.\n",
      "Instructions for updating:\n",
      "Please use `rate` instead of `keep_prob`. Rate should be set to `rate = 1 - keep_prob`.\n",
      "W0907 15:21:49.034563 4446397888 nn_ops.py:4224] Large dropout rate: 0.6 (>0.5). In TensorFlow 2.x, dropout() uses dropout rate instead of keep_prob. Please ensure that this is intended.\n",
      "W0907 15:21:49.211623 4446397888 nn_ops.py:4224] Large dropout rate: 0.6 (>0.5). In TensorFlow 2.x, dropout() uses dropout rate instead of keep_prob. Please ensure that this is intended.\n",
      "W0907 15:22:49.584311 4446397888 nn_ops.py:4224] Large dropout rate: 0.7 (>0.5). In TensorFlow 2.x, dropout() uses dropout rate instead of keep_prob. Please ensure that this is intended.\n",
      "W0907 15:22:49.757997 4446397888 nn_ops.py:4224] Large dropout rate: 0.7 (>0.5). In TensorFlow 2.x, dropout() uses dropout rate instead of keep_prob. Please ensure that this is intended.\n",
      "W0907 15:23:46.699876 4446397888 nn_ops.py:4224] Large dropout rate: 0.8 (>0.5). In TensorFlow 2.x, dropout() uses dropout rate instead of keep_prob. Please ensure that this is intended.\n"
     ]
    },
    {
     "name": "stdout",
     "output_type": "stream",
     "text": [
      "\n"
     ]
    },
    {
     "data": {
      "application/vnd.jupyter.widget-view+json": {
       "model_id": "61a0e748005641359e43b492570e502b",
       "version_major": 2,
       "version_minor": 0
      },
      "text/plain": [
       "HBox(children=(IntProgress(value=0, max=6), HTML(value='')))"
      ]
     },
     "metadata": {},
     "output_type": "display_data"
    },
    {
     "name": "stdout",
     "output_type": "stream",
     "text": [
      "\n"
     ]
    },
    {
     "data": {
      "application/vnd.jupyter.widget-view+json": {
       "model_id": "d3178c6d7e2f48529c9d1fdd1a5d9c84",
       "version_major": 2,
       "version_minor": 0
      },
      "text/plain": [
       "HBox(children=(IntProgress(value=0, max=6), HTML(value='')))"
      ]
     },
     "metadata": {},
     "output_type": "display_data"
    },
    {
     "name": "stdout",
     "output_type": "stream",
     "text": [
      "\n"
     ]
    },
    {
     "data": {
      "application/vnd.jupyter.widget-view+json": {
       "model_id": "3122510c9a95463ab16f5c7e73673822",
       "version_major": 2,
       "version_minor": 0
      },
      "text/plain": [
       "HBox(children=(IntProgress(value=0, max=6), HTML(value='')))"
      ]
     },
     "metadata": {},
     "output_type": "display_data"
    },
    {
     "name": "stdout",
     "output_type": "stream",
     "text": [
      "\n",
      "\n",
      "Minutes taken = 26.709919969240826\n"
     ]
    },
    {
     "data": {
      "text/html": [
       "<div>\n",
       "<style scoped>\n",
       "    .dataframe tbody tr th:only-of-type {\n",
       "        vertical-align: middle;\n",
       "    }\n",
       "\n",
       "    .dataframe tbody tr th {\n",
       "        vertical-align: top;\n",
       "    }\n",
       "\n",
       "    .dataframe thead th {\n",
       "        text-align: right;\n",
       "    }\n",
       "</style>\n",
       "<table border=\"1\" class=\"dataframe\">\n",
       "  <thead>\n",
       "    <tr style=\"text-align: right;\">\n",
       "      <th></th>\n",
       "      <th>lstm_units</th>\n",
       "      <th>dropout_prob</th>\n",
       "      <th>rmse</th>\n",
       "      <th>mape_pct</th>\n",
       "    </tr>\n",
       "  </thead>\n",
       "  <tbody>\n",
       "    <tr>\n",
       "      <th>0</th>\n",
       "      <td>10</td>\n",
       "      <td>0.5</td>\n",
       "      <td>1.378486</td>\n",
       "      <td>0.722685</td>\n",
       "    </tr>\n",
       "    <tr>\n",
       "      <th>1</th>\n",
       "      <td>10</td>\n",
       "      <td>0.6</td>\n",
       "      <td>1.404102</td>\n",
       "      <td>0.734510</td>\n",
       "    </tr>\n",
       "    <tr>\n",
       "      <th>2</th>\n",
       "      <td>10</td>\n",
       "      <td>0.7</td>\n",
       "      <td>1.389650</td>\n",
       "      <td>0.728625</td>\n",
       "    </tr>\n",
       "    <tr>\n",
       "      <th>3</th>\n",
       "      <td>10</td>\n",
       "      <td>0.8</td>\n",
       "      <td>1.403176</td>\n",
       "      <td>0.733505</td>\n",
       "    </tr>\n",
       "    <tr>\n",
       "      <th>4</th>\n",
       "      <td>10</td>\n",
       "      <td>0.9</td>\n",
       "      <td>1.339018</td>\n",
       "      <td>0.699961</td>\n",
       "    </tr>\n",
       "    <tr>\n",
       "      <th>5</th>\n",
       "      <td>10</td>\n",
       "      <td>1.0</td>\n",
       "      <td>1.224767</td>\n",
       "      <td>0.636202</td>\n",
       "    </tr>\n",
       "    <tr>\n",
       "      <th>6</th>\n",
       "      <td>50</td>\n",
       "      <td>0.5</td>\n",
       "      <td>1.271558</td>\n",
       "      <td>0.663027</td>\n",
       "    </tr>\n",
       "    <tr>\n",
       "      <th>7</th>\n",
       "      <td>50</td>\n",
       "      <td>0.6</td>\n",
       "      <td>1.298617</td>\n",
       "      <td>0.678252</td>\n",
       "    </tr>\n",
       "    <tr>\n",
       "      <th>8</th>\n",
       "      <td>50</td>\n",
       "      <td>0.7</td>\n",
       "      <td>1.349076</td>\n",
       "      <td>0.705354</td>\n",
       "    </tr>\n",
       "    <tr>\n",
       "      <th>9</th>\n",
       "      <td>50</td>\n",
       "      <td>0.8</td>\n",
       "      <td>1.401476</td>\n",
       "      <td>0.734988</td>\n",
       "    </tr>\n",
       "    <tr>\n",
       "      <th>10</th>\n",
       "      <td>50</td>\n",
       "      <td>0.9</td>\n",
       "      <td>1.415339</td>\n",
       "      <td>0.741113</td>\n",
       "    </tr>\n",
       "    <tr>\n",
       "      <th>11</th>\n",
       "      <td>50</td>\n",
       "      <td>1.0</td>\n",
       "      <td>1.093708</td>\n",
       "      <td>0.559874</td>\n",
       "    </tr>\n",
       "    <tr>\n",
       "      <th>12</th>\n",
       "      <td>64</td>\n",
       "      <td>0.5</td>\n",
       "      <td>1.234902</td>\n",
       "      <td>0.644890</td>\n",
       "    </tr>\n",
       "    <tr>\n",
       "      <th>13</th>\n",
       "      <td>64</td>\n",
       "      <td>0.6</td>\n",
       "      <td>1.272791</td>\n",
       "      <td>0.664353</td>\n",
       "    </tr>\n",
       "    <tr>\n",
       "      <th>14</th>\n",
       "      <td>64</td>\n",
       "      <td>0.7</td>\n",
       "      <td>1.321817</td>\n",
       "      <td>0.695159</td>\n",
       "    </tr>\n",
       "    <tr>\n",
       "      <th>15</th>\n",
       "      <td>64</td>\n",
       "      <td>0.8</td>\n",
       "      <td>1.386174</td>\n",
       "      <td>0.732815</td>\n",
       "    </tr>\n",
       "    <tr>\n",
       "      <th>16</th>\n",
       "      <td>64</td>\n",
       "      <td>0.9</td>\n",
       "      <td>1.413884</td>\n",
       "      <td>0.741758</td>\n",
       "    </tr>\n",
       "    <tr>\n",
       "      <th>17</th>\n",
       "      <td>64</td>\n",
       "      <td>1.0</td>\n",
       "      <td>1.079864</td>\n",
       "      <td>0.552846</td>\n",
       "    </tr>\n",
       "    <tr>\n",
       "      <th>18</th>\n",
       "      <td>128</td>\n",
       "      <td>0.5</td>\n",
       "      <td>1.170203</td>\n",
       "      <td>0.606727</td>\n",
       "    </tr>\n",
       "    <tr>\n",
       "      <th>19</th>\n",
       "      <td>128</td>\n",
       "      <td>0.6</td>\n",
       "      <td>1.223193</td>\n",
       "      <td>0.638260</td>\n",
       "    </tr>\n",
       "    <tr>\n",
       "      <th>20</th>\n",
       "      <td>128</td>\n",
       "      <td>0.7</td>\n",
       "      <td>1.310654</td>\n",
       "      <td>0.683732</td>\n",
       "    </tr>\n",
       "    <tr>\n",
       "      <th>21</th>\n",
       "      <td>128</td>\n",
       "      <td>0.8</td>\n",
       "      <td>1.382269</td>\n",
       "      <td>0.722163</td>\n",
       "    </tr>\n",
       "    <tr>\n",
       "      <th>22</th>\n",
       "      <td>128</td>\n",
       "      <td>0.9</td>\n",
       "      <td>1.445612</td>\n",
       "      <td>0.761334</td>\n",
       "    </tr>\n",
       "    <tr>\n",
       "      <th>23</th>\n",
       "      <td>128</td>\n",
       "      <td>1.0</td>\n",
       "      <td>1.057711</td>\n",
       "      <td>0.547535</td>\n",
       "    </tr>\n",
       "  </tbody>\n",
       "</table>\n",
       "</div>"
      ],
      "text/plain": [
       "    lstm_units  dropout_prob      rmse  mape_pct\n",
       "0           10           0.5  1.378486  0.722685\n",
       "1           10           0.6  1.404102  0.734510\n",
       "2           10           0.7  1.389650  0.728625\n",
       "3           10           0.8  1.403176  0.733505\n",
       "4           10           0.9  1.339018  0.699961\n",
       "5           10           1.0  1.224767  0.636202\n",
       "6           50           0.5  1.271558  0.663027\n",
       "7           50           0.6  1.298617  0.678252\n",
       "8           50           0.7  1.349076  0.705354\n",
       "9           50           0.8  1.401476  0.734988\n",
       "10          50           0.9  1.415339  0.741113\n",
       "11          50           1.0  1.093708  0.559874\n",
       "12          64           0.5  1.234902  0.644890\n",
       "13          64           0.6  1.272791  0.664353\n",
       "14          64           0.7  1.321817  0.695159\n",
       "15          64           0.8  1.386174  0.732815\n",
       "16          64           0.9  1.413884  0.741758\n",
       "17          64           1.0  1.079864  0.552846\n",
       "18         128           0.5  1.170203  0.606727\n",
       "19         128           0.6  1.223193  0.638260\n",
       "20         128           0.7  1.310654  0.683732\n",
       "21         128           0.8  1.382269  0.722163\n",
       "22         128           0.9  1.445612  0.761334\n",
       "23         128           1.0  1.057711  0.547535"
      ]
     },
     "execution_count": 19,
     "metadata": {},
     "output_type": "execute_result"
    }
   ],
   "source": [
    "#Trying different LSTM units and Dropout probabilities\n",
    "param_label = 'lstm_units'\n",
    "param_list = [10, 50, 64, 128]\n",
    "\n",
    "param2_label = 'dropout_prob'\n",
    "param2_list = [0.5, 0.6, 0.7, 0.8, 0.9, 1]\n",
    "\n",
    "error_rate = {param_label: [], param2_label: [], 'rmse': [], 'mape_pct': []}\n",
    "tic = time.time()\n",
    "for param in tqdm_notebook(param_list):\n",
    "    \n",
    "    for param2 in tqdm_notebook(param2_list):\n",
    "        \n",
    "        rmse, mape, _ = train_pred_eval_model(x_train_scaled,\n",
    "                                          y_train_scaled,\n",
    "                                          x_cv_scaled,\n",
    "                                          y_cv,\n",
    "                                          mu_cv_list,\n",
    "                                          std_cv_list,\n",
    "                                          lstm_units=param,\n",
    "                                          dropout_prob=param2,\n",
    "                                          optimizer=optimizer,\n",
    "                                          epochs=epochs_opt,\n",
    "                                          batch_size=batch_size_opt)\n",
    "        error_rate[param_label].append(param)\n",
    "        error_rate[param2_label].append(param2)\n",
    "        error_rate['rmse'].append(rmse)\n",
    "        error_rate['mape_pct'].append(mape)\n",
    "\n",
    "error_rate = pd.DataFrame(error_rate)\n",
    "toc = time.time()\n",
    "print(\"Minutes taken = \" + str((toc-tic)/60.0))\n",
    "error_rate"
   ]
  },
  {
   "cell_type": "code",
   "execution_count": 20,
   "metadata": {},
   "outputs": [
    {
     "data": {
      "text/plain": [
       "<matplotlib.legend.Legend at 0x1d91a3358>"
      ]
     },
     "execution_count": 20,
     "metadata": {},
     "output_type": "execute_result"
    },
    {
     "data": {
      "image/png": "[encoded data removed]",
      "text/plain": [
       "<Figure size 720x576 with 1 Axes>"
      ]
     },
     "metadata": {
      "needs_background": "light"
     },
     "output_type": "display_data"
    }
   ],
   "source": [
    "# Plot performance versus params\n",
    "rcParams['figure.figsize'] = 10, 8 # width 10, height 8\n",
    "temp = error_rate[error_rate[param2_label]==param2_list[0]]\n",
    "ax = temp.plot(x=param_label, y='rmse', style='bs-', grid=True)\n",
    "legend_list = [param2_label + '_' + str(param2_list[0])]\n",
    "\n",
    "color_list = ['r', 'g', 'k', 'y', 'm', 'c', '0.75']\n",
    "for i in range(1,len(param2_list)):\n",
    "    temp = error_rate[error_rate[param2_label]==param2_list[i]]\n",
    "    ax = temp.plot(x=param_label, y='rmse', color=color_list[i%len(color_list)], marker='s', grid=True, ax=ax)\n",
    "    legend_list.append(param2_label + '_' + str(param2_list[i]))\n",
    "\n",
    "ax.set_xlabel(param_label)\n",
    "ax.set_ylabel(\"RMSE\")\n",
    "matplotlib.rcParams.update({'font.size': 14})\n",
    "plt.legend(legend_list, loc='center left', bbox_to_anchor=(1.0, 0.5)) # positions legend outside figure"
   ]
  },
  {
   "cell_type": "code",
   "execution_count": 21,
   "metadata": {},
   "outputs": [
    {
     "name": "stdout",
     "output_type": "stream",
     "text": [
      "min RMSE = 1.058\n",
      "min MAPE = 0.548%\n",
      "optimum lstm_units = 128\n",
      "optimum dropout_prob = 1.0\n"
     ]
    }
   ],
   "source": [
    "# Get optimum value for LSTM and Dropout\n",
    "temp = error_rate[error_rate['rmse'] == error_rate['rmse'].min()]\n",
    "lstm_units_opt = temp[param_label].values[0]\n",
    "dropout_prob_opt = temp[param2_label].values[0]\n",
    "print(\"min RMSE = %0.3f\" % error_rate['rmse'].min())\n",
    "print(\"min MAPE = %0.3f%%\" % error_rate['mape_pct'].min())\n",
    "print(\"optimum \" + param_label + \" = \" + str(lstm_units_opt))\n",
    "print(\"optimum \" + param2_label + \" = \" + str(dropout_prob_opt))"
   ]
  },
  {
   "cell_type": "code",
   "execution_count": 22,
   "metadata": {},
   "outputs": [
    {
     "data": {
      "application/vnd.jupyter.widget-view+json": {
       "model_id": "665bcca89933443188f92a570b86cb35",
       "version_major": 2,
       "version_minor": 0
      },
      "text/plain": [
       "HBox(children=(IntProgress(value=0, max=7), HTML(value='')))"
      ]
     },
     "metadata": {},
     "output_type": "display_data"
    },
    {
     "name": "stdout",
     "output_type": "stream",
     "text": [
      "\n",
      "Minutes taken = 9.250364236036937\n"
     ]
    },
    {
     "data": {
      "text/html": [
       "<div>\n",
       "<style scoped>\n",
       "    .dataframe tbody tr th:only-of-type {\n",
       "        vertical-align: middle;\n",
       "    }\n",
       "\n",
       "    .dataframe tbody tr th {\n",
       "        vertical-align: top;\n",
       "    }\n",
       "\n",
       "    .dataframe thead th {\n",
       "        text-align: right;\n",
       "    }\n",
       "</style>\n",
       "<table border=\"1\" class=\"dataframe\">\n",
       "  <thead>\n",
       "    <tr style=\"text-align: right;\">\n",
       "      <th></th>\n",
       "      <th>optimizer</th>\n",
       "      <th>rmse</th>\n",
       "      <th>mape_pct</th>\n",
       "    </tr>\n",
       "  </thead>\n",
       "  <tbody>\n",
       "    <tr>\n",
       "      <th>0</th>\n",
       "      <td>adam</td>\n",
       "      <td>1.059749</td>\n",
       "      <td>0.554340</td>\n",
       "    </tr>\n",
       "    <tr>\n",
       "      <th>1</th>\n",
       "      <td>sgd</td>\n",
       "      <td>1.340676</td>\n",
       "      <td>0.703347</td>\n",
       "    </tr>\n",
       "    <tr>\n",
       "      <th>2</th>\n",
       "      <td>rmsprop</td>\n",
       "      <td>1.062647</td>\n",
       "      <td>0.551436</td>\n",
       "    </tr>\n",
       "    <tr>\n",
       "      <th>3</th>\n",
       "      <td>adagrad</td>\n",
       "      <td>1.192426</td>\n",
       "      <td>0.616706</td>\n",
       "    </tr>\n",
       "    <tr>\n",
       "      <th>4</th>\n",
       "      <td>adadelta</td>\n",
       "      <td>1.089538</td>\n",
       "      <td>0.554420</td>\n",
       "    </tr>\n",
       "    <tr>\n",
       "      <th>5</th>\n",
       "      <td>adamax</td>\n",
       "      <td>1.064494</td>\n",
       "      <td>0.548106</td>\n",
       "    </tr>\n",
       "    <tr>\n",
       "      <th>6</th>\n",
       "      <td>nadam</td>\n",
       "      <td>1.058346</td>\n",
       "      <td>0.550573</td>\n",
       "    </tr>\n",
       "  </tbody>\n",
       "</table>\n",
       "</div>"
      ],
      "text/plain": [
       "  optimizer      rmse  mape_pct\n",
       "0      adam  1.059749  0.554340\n",
       "1       sgd  1.340676  0.703347\n",
       "2   rmsprop  1.062647  0.551436\n",
       "3   adagrad  1.192426  0.616706\n",
       "4  adadelta  1.089538  0.554420\n",
       "5    adamax  1.064494  0.548106\n",
       "6     nadam  1.058346  0.550573"
      ]
     },
     "execution_count": 22,
     "metadata": {},
     "output_type": "execute_result"
    }
   ],
   "source": [
    "#Trying different optimizers\n",
    "param_label = 'optimizer'\n",
    "param_list = ['adam', 'sgd', 'rmsprop', 'adagrad', 'adadelta' , 'adamax', 'nadam']\n",
    "\n",
    "error_rate = {param_label: [], 'rmse': [], 'mape_pct': []}\n",
    "tic = time.time()\n",
    "for param in tqdm_notebook(param_list):\n",
    "    \n",
    "    rmse, mape, _ = train_pred_eval_model(x_train_scaled,\n",
    "                                          y_train_scaled,\n",
    "                                          x_cv_scaled,\n",
    "                                          y_cv,\n",
    "                                          mu_cv_list,\n",
    "                                          std_cv_list,\n",
    "                                          lstm_units=lstm_units_opt,\n",
    "                                          dropout_prob=dropout_prob,\n",
    "                                          optimizer=param,\n",
    "                                          epochs=epochs_opt,\n",
    "                                          batch_size=batch_size_opt)\n",
    "    error_rate[param_label].append(param)\n",
    "    error_rate['rmse'].append(rmse)\n",
    "    error_rate['mape_pct'].append(mape)\n",
    "\n",
    "error_rate = pd.DataFrame(error_rate)\n",
    "toc = time.time()\n",
    "print(\"Minutes taken = \" + str((toc-tic)/60.0))\n",
    "error_rate"
   ]
  },
  {
   "cell_type": "code",
   "execution_count": 23,
   "metadata": {},
   "outputs": [
    {
     "data": {
      "text/plain": [
       "Text(0, 0.5, 'RMSE / MAPE (%)')"
      ]
     },
     "execution_count": 23,
     "metadata": {},
     "output_type": "execute_result"
    },
    {
     "data": {
      "image/png": "[encoded data removed]",
      "text/plain": [
       "<Figure size 720x576 with 1 Axes>"
      ]
     },
     "metadata": {
      "needs_background": "light"
     },
     "output_type": "display_data"
    }
   ],
   "source": [
    "rcParams['figure.figsize'] = 10, 8\n",
    "\n",
    "ax = error_rate.plot(x='optimizer', y='rmse', style='bx-', grid=True)\n",
    "ax = error_rate.plot(x='optimizer', y='mape_pct', style='rx-', grid=True, ax=ax)\n",
    "ax.set_xticklabels(param_list)\n",
    "ax.set_xlabel('Optimizer')\n",
    "ax.set_ylabel('RMSE / MAPE (%)')\n"
   ]
  },
  {
   "cell_type": "code",
   "execution_count": 24,
   "metadata": {},
   "outputs": [
    {
     "name": "stdout",
     "output_type": "stream",
     "text": [
      "min RMSE = 1.058\n",
      "min MAPE = 0.548%\n",
      "optimum optimizer = nadam\n"
     ]
    }
   ],
   "source": [
    "# Get optimum value for param and param2\n",
    "temp = error_rate[error_rate['rmse'] == error_rate['rmse'].min()]\n",
    "optimizer_opt = temp[param_label].values[0]\n",
    "print(\"min RMSE = %0.3f\" % error_rate['rmse'].min())\n",
    "print(\"min MAPE = %0.3f%%\" % error_rate['mape_pct'].min())\n",
    "print(\"optimum \" + param_label + \" = \" + str(optimizer_opt))"
   ]
  },
  {
   "cell_type": "code",
   "execution_count": 25,
   "metadata": {},
   "outputs": [
    {
     "data": {
      "text/html": [
       "<div>\n",
       "<style scoped>\n",
       "    .dataframe tbody tr th:only-of-type {\n",
       "        vertical-align: middle;\n",
       "    }\n",
       "\n",
       "    .dataframe tbody tr th {\n",
       "        vertical-align: top;\n",
       "    }\n",
       "\n",
       "    .dataframe thead th {\n",
       "        text-align: right;\n",
       "    }\n",
       "</style>\n",
       "<table border=\"1\" class=\"dataframe\">\n",
       "  <thead>\n",
       "    <tr style=\"text-align: right;\">\n",
       "      <th></th>\n",
       "      <th>param</th>\n",
       "      <th>original</th>\n",
       "      <th>after_tuning</th>\n",
       "    </tr>\n",
       "  </thead>\n",
       "  <tbody>\n",
       "    <tr>\n",
       "      <th>0</th>\n",
       "      <td>N</td>\n",
       "      <td>9</td>\n",
       "      <td>3</td>\n",
       "    </tr>\n",
       "    <tr>\n",
       "      <th>1</th>\n",
       "      <td>lstm_units</td>\n",
       "      <td>50</td>\n",
       "      <td>128</td>\n",
       "    </tr>\n",
       "    <tr>\n",
       "      <th>2</th>\n",
       "      <td>dropout_prob</td>\n",
       "      <td>1</td>\n",
       "      <td>1</td>\n",
       "    </tr>\n",
       "    <tr>\n",
       "      <th>3</th>\n",
       "      <td>optimizer</td>\n",
       "      <td>adam</td>\n",
       "      <td>nadam</td>\n",
       "    </tr>\n",
       "    <tr>\n",
       "      <th>4</th>\n",
       "      <td>epochs</td>\n",
       "      <td>1</td>\n",
       "      <td>50</td>\n",
       "    </tr>\n",
       "    <tr>\n",
       "      <th>5</th>\n",
       "      <td>batch_size</td>\n",
       "      <td>1</td>\n",
       "      <td>8</td>\n",
       "    </tr>\n",
       "    <tr>\n",
       "      <th>6</th>\n",
       "      <td>rmse</td>\n",
       "      <td>1.41318</td>\n",
       "      <td>1.05835</td>\n",
       "    </tr>\n",
       "    <tr>\n",
       "      <th>7</th>\n",
       "      <td>mape_pct</td>\n",
       "      <td>0.755569</td>\n",
       "      <td>0.548106</td>\n",
       "    </tr>\n",
       "  </tbody>\n",
       "</table>\n",
       "</div>"
      ],
      "text/plain": [
       "          param  original after_tuning\n",
       "0             N         9            3\n",
       "1    lstm_units        50          128\n",
       "2  dropout_prob         1            1\n",
       "3     optimizer      adam        nadam\n",
       "4        epochs         1           50\n",
       "5    batch_size         1            8\n",
       "6          rmse   1.41318      1.05835\n",
       "7      mape_pct  0.755569     0.548106"
      ]
     },
     "execution_count": 25,
     "metadata": {},
     "output_type": "execute_result"
    }
   ],
   "source": [
    "d = {'param': ['N', 'lstm_units', 'dropout_prob', 'optimizer', 'epochs', 'batch_size', 'rmse', 'mape_pct'],\n",
    "     'original': [N, lstm_units, dropout_prob, optimizer, epochs, batch_size, rmse_bef_tuning, mape_pct_bef_tuning],\n",
    "     'after_tuning': [N_opt, lstm_units_opt, dropout_prob_opt, optimizer_opt, epochs_opt, batch_size_opt, error_rate['rmse'].min(), error_rate['mape_pct'].min()]}\n",
    "tuned_params = pd.DataFrame(d)\n",
    "tuned_params"
   ]
  },
  {
   "cell_type": "code",
   "execution_count": 76,
   "metadata": {},
   "outputs": [
    {
     "name": "stdout",
     "output_type": "stream",
     "text": [
      "RMSE on test set = 1.543\n",
      "MAPE on test set = 0.806%\n"
     ]
    }
   ],
   "source": [
    "# Split train_cv into x and y\n",
    "x_train_cv_scaled, y_train_cv_scaled = get_x_y(train_cv_scaled_final, N_opt, N_opt)\n",
    "\n",
    "# Split test into x and y\n",
    "x_test_scaled, y_test, mu_test_list, std_test_list = get_x_scaled_y(np.array(df['close']).reshape(-1,1), N_opt, num_train+num_cv)\n",
    "\n",
    "# Train, predict and eval model\n",
    "rmse, mape, est, model = train_pred_eval_model(x_train_cv_scaled, \n",
    "                                        y_train_cv_scaled, \n",
    "                                        x_test_scaled, \n",
    "                                        y_test, \n",
    "                                        mu_test_list, \n",
    "                                        std_test_list, \n",
    "                                        lstm_units=lstm_units_opt, \n",
    "                                        dropout_prob=dropout_prob_opt, \n",
    "                                        optimizer=optimizer_opt, \n",
    "                                        epochs=epochs_opt, \n",
    "                                        batch_size=batch_size_opt)\n",
    "\n",
    "# Calculate RMSE\n",
    "print(\"RMSE on test set = %0.3f\" % rmse)\n",
    "\n",
    "# Calculate MAPE\n",
    "print(\"MAPE on test set = %0.3f%%\" % mape)"
   ]
  },
  {
   "cell_type": "code",
   "execution_count": 77,
   "metadata": {},
   "outputs": [
    {
     "data": {
      "text/plain": [
       "Text(0, 0.5, 'USD')"
      ]
     },
     "execution_count": 77,
     "metadata": {},
     "output_type": "execute_result"
    },
    {
     "data": {
      "image/png": "[encoded data removed]",
      "text/plain": [
       "<Figure size 720x576 with 1 Axes>"
      ]
     },
     "metadata": {
      "needs_background": "light"
     },
     "output_type": "display_data"
    }
   ],
   "source": [
    "# Plot adjusted close over time\n",
    "rcParams['figure.figsize'] = 10, 8 # width 10, height 8\n",
    "\n",
    "est_df = pd.DataFrame({'est': est.reshape(-1), \n",
    "                       'date': df[num_train+num_cv:]['date']})\n",
    "\n",
    "ax = train.plot(x='date', y='close', style='b-', grid=True)\n",
    "ax = cv.plot(x='date', y='close', style='y-', grid=True, ax=ax)\n",
    "ax = test.plot(x='date', y='close', style='g-', grid=True, ax=ax)\n",
    "ax = est_df.plot(x='date', y='est', style='r-', grid=True, ax=ax)\n",
    "ax.legend(['train', 'dev', 'test', 'predictions'])\n",
    "ax.set_xlabel(\"date\")\n",
    "ax.set_ylabel(\"USD\")"
   ]
  },
  {
   "cell_type": "code",
   "execution_count": 78,
   "metadata": {},
   "outputs": [
    {
     "data": {
      "text/plain": [
       "Text(0.5, 1.0, 'Zoom in to test set')"
      ]
     },
     "execution_count": 78,
     "metadata": {},
     "output_type": "execute_result"
    },
    {
     "data": {
      "image/png": "[encoded data removed]",
      "text/plain": [
       "<Figure size 720x576 with 1 Axes>"
      ]
     },
     "metadata": {
      "needs_background": "light"
     },
     "output_type": "display_data"
    }
   ],
   "source": [
    "# Plot adjusted close over time, for test set only\n",
    "rcParams['figure.figsize'] = 10, 8 # width 10, height 8\n",
    "ax = train.plot(x='date', y='close', style='b-', grid=True)\n",
    "ax = cv.plot(x='date', y='close', style='y-', grid=True, ax=ax)\n",
    "ax = test.plot(x='date', y='close', style='g-', grid=True, ax=ax)\n",
    "ax = est_df.plot(x='date', y='est', style='r-', grid=True, ax=ax)\n",
    "ax.legend(['train', 'dev', 'test', 'predictions'])\n",
    "ax.set_xlabel(\"date\")\n",
    "ax.set_ylabel(\"USD\")\n",
    "ax.set_xlim([date(2018, 9, 1), date(2019, 9, 5)])\n",
    "ax.set_ylim([120, 155])\n",
    "ax.set_title(\"Zoom in to test set\")"
   ]
  },
  {
   "cell_type": "code",
   "execution_count": 75,
   "metadata": {},
   "outputs": [
    {
     "data": {
      "text/plain": [
       "array([], dtype=float64)"
      ]
     },
     "execution_count": 75,
     "metadata": {},
     "output_type": "execute_result"
    }
   ],
   "source": [
    "recent_data = df['close'].tail(120)\n",
    "num_recent = len(recent_data)\n",
    "\n",
    "x_future_scaled, y_scaled, future_mu, future_std = get_x_scaled_y(np.array(recent_data).reshape(-1,1), \n",
    "                                                                  N_opt, \n",
    "                                                                  num_recent)\n",
    "# future_scaled = model.predict(x_future_scaled)\n",
    "# future = (future_scaled * np.array(mu_test_list).reshape(-1,1)) + np.array(std_test_list).reshape(-1,1)\n",
    "\n",
    "# future_df = pd.DataFrame({'est': future.reshape(-1), \n",
    "#                        'date': df[num_train+num_cv:]['date']})\n",
    "\n",
    "x_future_scaled"
   ]
  },
  {
   "cell_type": "code",
   "execution_count": null,
   "metadata": {},
   "outputs": [],
   "source": []
  }
 ],
 "metadata": {
  "kernelspec": {
   "display_name": "Python 3",
   "language": "python",
   "name": "python3"
  },
  "language_info": {
   "codemirror_mode": {
    "name": "ipython",
    "version": 3
   },
   "file_extension": ".py",
   "mimetype": "text/x-python",
   "name": "python",
   "nbconvert_exporter": "python",
   "pygments_lexer": "ipython3",
   "version": "3.7.2"
  }
 },
 "nbformat": 4,
 "nbformat_minor": 2
}
